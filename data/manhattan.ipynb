{
 "cells": [
  {
   "cell_type": "markdown",
   "id": "5d2de9ff",
   "metadata": {},
   "source": [
    "# Manhattan Distance\n",
    "\n",
    "Manhattan distance is named after Manhattan since it has grid-like roads. One interesting use case of this distance would be to estimate the travel distance for taxirides, in order to, for example, estimate the fees that one may have to charge the passenger.\n",
    "\n",
    "In the `data` folder, there's a database with data from July 2025 the taxi rides in NYC. The original database, after converting to `csv`,  had 350,000 lines, so it would be too big to upload. However, even the current version (10% the size) would be interesting to work with.\n",
    "\n",
    "After deciphering what the coordinates Pickup/Dropoff zone codes represent, one could easily start measuring the Manhattan distance between them, and compare with the `distance` column given. This would be helpful in figuring out the most accurate way of adjusting the estimates to fit real-world outcomes, and would serve as as a source for a 'price range'. \n",
    "\n",
    "I will not implement this today :) but this is an outline of how I would.\n",
    "\n"
   ]
  }
 ],
 "metadata": {
  "language_info": {
   "name": "python"
  }
 },
 "nbformat": 4,
 "nbformat_minor": 5
}
