{
 "cells": [
  {
   "cell_type": "markdown",
   "id": "61b2a646",
   "metadata": {},
   "source": [
    "# Health Risk Dataset\n",
    "\n",
    "Goal: Use the 8 features to predict the 1 label (health risk).\n",
    "Process:\n",
    "- Embed all features into an 8-dimensional vector space\n",
    "- When new data points arrive, project them into the same 8D space\n",
    "- Compute pairwise cosine similarity between all vectors (could use optimization here, lazy-loading etc.)\n",
    "- Use k nearest neighbours to find vectors with closest similarity and make the prediction based on majority vote\n",
    "\n",
    "Source:\n",
    "https://www.kaggle.com/datasets/ludocielbeckett/health-risk-prediction-anonymized-real-data"
   ]
  },
  {
   "cell_type": "code",
   "execution_count": 42,
   "id": "f7448965",
   "metadata": {},
   "outputs": [],
   "source": [
    "import numpy as np\n",
    "import pandas as pd\n",
    "import plotly.express as px\n",
    "import sys\n",
    "import plotly.graph_objects as go\n",
    "\n",
    "sys.path.append('..')\n",
    "from distances.distance_matrix import make_distance_matrix\n",
    "\n",
    "df = pd.read_csv(\"../data/Health-Risk.csv\")\n",
    "\n",
    "label = df['Risk_Level']\n",
    "df = df.iloc[:, 1:10]\n"
   ]
  },
  {
   "cell_type": "code",
   "execution_count": 39,
   "id": "17d3edb3",
   "metadata": {},
   "outputs": [
    {
     "data": {
      "application/vnd.plotly.v1+json": {
       "config": {
        "plotlyServerURL": "https://plot.ly"
       },
       "data": [
        {
         "line": {
          "color": "green",
          "width": 1.5
         },
         "mode": "lines",
         "name": "Low Risk",
         "showlegend": true,
         "type": "scatter3d",
         "x": [
          0,
          96
         ],
         "y": [
          0,
          97
         ],
         "z": [
          0,
          37.4
         ]
        },
        {
         "line": {
          "color": "green",
          "width": 1.5
         },
         "mode": "lines",
         "name": "Low Risk",
         "showlegend": false,
         "type": "scatter3d",
         "x": [
          0,
          97
         ],
         "y": [
          0,
          93
         ],
         "z": [
          0,
          37.9
         ]
        },
        {
         "line": {
          "color": "green",
          "width": 1.5
         },
         "mode": "lines",
         "name": "Low Risk",
         "showlegend": false,
         "type": "scatter3d",
         "x": [
          0,
          95
         ],
         "y": [
          0,
          84
         ],
         "z": [
          0,
          37.2
         ]
        },
        {
         "line": {
          "color": "green",
          "width": 1.5
         },
         "mode": "lines",
         "name": "Low Risk",
         "showlegend": false,
         "type": "scatter3d",
         "x": [
          0,
          95
         ],
         "y": [
          0,
          91
         ],
         "z": [
          0,
          37.9
         ]
        },
        {
         "line": {
          "color": "green",
          "width": 1.5
         },
         "mode": "lines",
         "name": "Low Risk",
         "showlegend": false,
         "type": "scatter3d",
         "x": [
          0,
          94
         ],
         "y": [
          0,
          93
         ],
         "z": [
          0,
          37.3
         ]
        },
        {
         "line": {
          "color": "green",
          "width": 1.5
         },
         "mode": "lines",
         "name": "Low Risk",
         "showlegend": false,
         "type": "scatter3d",
         "x": [
          0,
          95
         ],
         "y": [
          0,
          99
         ],
         "z": [
          0,
          36.6
         ]
        },
        {
         "line": {
          "color": "green",
          "width": 1.5
         },
         "mode": "lines",
         "name": "Low Risk",
         "showlegend": false,
         "type": "scatter3d",
         "x": [
          0,
          95
         ],
         "y": [
          0,
          88
         ],
         "z": [
          0,
          36.9
         ]
        },
        {
         "marker": {
          "color": "green",
          "size": 4,
          "symbol": "cross"
         },
         "mode": "markers",
         "name": "Low Risk Tip",
         "showlegend": false,
         "type": "scatter3d",
         "x": [
          96,
          97,
          95,
          95,
          94,
          95,
          95
         ],
         "y": [
          97,
          93,
          84,
          91,
          93,
          99,
          88
         ],
         "z": [
          37.4,
          37.9,
          37.2,
          37.9,
          37.3,
          36.6,
          36.9
         ]
        },
        {
         "line": {
          "color": "blue",
          "width": 1.5
         },
         "mode": "lines",
         "name": "Normal Risk",
         "showlegend": true,
         "type": "scatter3d",
         "x": [
          0,
          98
         ],
         "y": [
          0,
          72
         ],
         "z": [
          0,
          36.6
         ]
        },
        {
         "line": {
          "color": "blue",
          "width": 1.5
         },
         "mode": "lines",
         "name": "Normal Risk",
         "showlegend": false,
         "type": "scatter3d",
         "x": [
          0,
          97
         ],
         "y": [
          0,
          77
         ],
         "z": [
          0,
          36.7
         ]
        },
        {
         "line": {
          "color": "blue",
          "width": 1.5
         },
         "mode": "lines",
         "name": "Normal Risk",
         "showlegend": false,
         "type": "scatter3d",
         "x": [
          0,
          98
         ],
         "y": [
          0,
          66
         ],
         "z": [
          0,
          36.6
         ]
        },
        {
         "marker": {
          "color": "blue",
          "size": 4,
          "symbol": "cross"
         },
         "mode": "markers",
         "name": "Normal Risk Tip",
         "showlegend": false,
         "type": "scatter3d",
         "x": [
          98,
          97,
          98
         ],
         "y": [
          72,
          77,
          66
         ],
         "z": [
          36.6,
          36.7,
          36.6
         ]
        },
        {
         "line": {
          "color": "orange",
          "width": 1.5
         },
         "mode": "lines",
         "name": "Medium Risk",
         "showlegend": true,
         "type": "scatter3d",
         "x": [
          0,
          96
         ],
         "y": [
          0,
          107
         ],
         "z": [
          0,
          37.5
         ]
        },
        {
         "line": {
          "color": "orange",
          "width": 1.5
         },
         "mode": "lines",
         "name": "Medium Risk",
         "showlegend": false,
         "type": "scatter3d",
         "x": [
          0,
          96
         ],
         "y": [
          0,
          92
         ],
         "z": [
          0,
          37.3
         ]
        },
        {
         "line": {
          "color": "orange",
          "width": 1.5
         },
         "mode": "lines",
         "name": "Medium Risk",
         "showlegend": false,
         "type": "scatter3d",
         "x": [
          0,
          91
         ],
         "y": [
          0,
          98
         ],
         "z": [
          0,
          37.8
         ]
        },
        {
         "line": {
          "color": "orange",
          "width": 1.5
         },
         "mode": "lines",
         "name": "Medium Risk",
         "showlegend": false,
         "type": "scatter3d",
         "x": [
          0,
          90
         ],
         "y": [
          0,
          96
         ],
         "z": [
          0,
          38.4
         ]
        },
        {
         "line": {
          "color": "orange",
          "width": 1.5
         },
         "mode": "lines",
         "name": "Medium Risk",
         "showlegend": false,
         "type": "scatter3d",
         "x": [
          0,
          90
         ],
         "y": [
          0,
          107
         ],
         "z": [
          0,
          39
         ]
        },
        {
         "line": {
          "color": "orange",
          "width": 1.5
         },
         "mode": "lines",
         "name": "Medium Risk",
         "showlegend": false,
         "type": "scatter3d",
         "x": [
          0,
          96
         ],
         "y": [
          0,
          105
         ],
         "z": [
          0,
          38.5
         ]
        },
        {
         "line": {
          "color": "orange",
          "width": 1.5
         },
         "mode": "lines",
         "name": "Medium Risk",
         "showlegend": false,
         "type": "scatter3d",
         "x": [
          0,
          95
         ],
         "y": [
          0,
          121
         ],
         "z": [
          0,
          38.5
         ]
        },
        {
         "line": {
          "color": "orange",
          "width": 1.5
         },
         "mode": "lines",
         "name": "Medium Risk",
         "showlegend": false,
         "type": "scatter3d",
         "x": [
          0,
          92
         ],
         "y": [
          0,
          93
         ],
         "z": [
          0,
          37.7
         ]
        },
        {
         "marker": {
          "color": "orange",
          "size": 4,
          "symbol": "cross"
         },
         "mode": "markers",
         "name": "Medium Risk Tip",
         "showlegend": false,
         "type": "scatter3d",
         "x": [
          96,
          96,
          91,
          90,
          90,
          96,
          95,
          92
         ],
         "y": [
          107,
          92,
          98,
          96,
          107,
          105,
          121,
          93
         ],
         "z": [
          37.5,
          37.3,
          37.8,
          38.4,
          39,
          38.5,
          38.5,
          37.7
         ]
        },
        {
         "line": {
          "color": "red",
          "width": 1.5
         },
         "mode": "lines",
         "name": "High Risk",
         "showlegend": true,
         "type": "scatter3d",
         "x": [
          0,
          92
         ],
         "y": [
          0,
          151
         ],
         "z": [
          0,
          38.5
         ]
        },
        {
         "line": {
          "color": "red",
          "width": 1.5
         },
         "mode": "lines",
         "name": "High Risk",
         "showlegend": false,
         "type": "scatter3d",
         "x": [
          0,
          91
         ],
         "y": [
          0,
          135
         ],
         "z": [
          0,
          38.4
         ]
        },
        {
         "line": {
          "color": "red",
          "width": 1.5
         },
         "mode": "lines",
         "name": "High Risk",
         "showlegend": false,
         "type": "scatter3d",
         "x": [
          0,
          88
         ],
         "y": [
          0,
          107
         ],
         "z": [
          0,
          40.7
         ]
        },
        {
         "line": {
          "color": "red",
          "width": 1.5
         },
         "mode": "lines",
         "name": "High Risk",
         "showlegend": false,
         "type": "scatter3d",
         "x": [
          0,
          80
         ],
         "y": [
          0,
          131
         ],
         "z": [
          0,
          38.6
         ]
        },
        {
         "line": {
          "color": "red",
          "width": 1.5
         },
         "mode": "lines",
         "name": "High Risk",
         "showlegend": false,
         "type": "scatter3d",
         "x": [
          0,
          88
         ],
         "y": [
          0,
          131
         ],
         "z": [
          0,
          39.3
         ]
        },
        {
         "line": {
          "color": "red",
          "width": 1.5
         },
         "mode": "lines",
         "name": "High Risk",
         "showlegend": false,
         "type": "scatter3d",
         "x": [
          0,
          89
         ],
         "y": [
          0,
          130
         ],
         "z": [
          0,
          39.7
         ]
        },
        {
         "line": {
          "color": "red",
          "width": 1.5
         },
         "mode": "lines",
         "name": "High Risk",
         "showlegend": false,
         "type": "scatter3d",
         "x": [
          0,
          80
         ],
         "y": [
          0,
          129
         ],
         "z": [
          0,
          39.4
         ]
        },
        {
         "line": {
          "color": "red",
          "width": 1.5
         },
         "mode": "lines",
         "name": "High Risk",
         "showlegend": false,
         "type": "scatter3d",
         "x": [
          0,
          82
         ],
         "y": [
          0,
          131
         ],
         "z": [
          0,
          40.6
         ]
        },
        {
         "line": {
          "color": "red",
          "width": 1.5
         },
         "mode": "lines",
         "name": "High Risk",
         "showlegend": false,
         "type": "scatter3d",
         "x": [
          0,
          84
         ],
         "y": [
          0,
          127
         ],
         "z": [
          0,
          39
         ]
        },
        {
         "line": {
          "color": "red",
          "width": 1.5
         },
         "mode": "lines",
         "name": "High Risk",
         "showlegend": false,
         "type": "scatter3d",
         "x": [
          0,
          96
         ],
         "y": [
          0,
          122
         ],
         "z": [
          0,
          39.7
         ]
        },
        {
         "line": {
          "color": "red",
          "width": 1.5
         },
         "mode": "lines",
         "name": "High Risk",
         "showlegend": false,
         "type": "scatter3d",
         "x": [
          0,
          89
         ],
         "y": [
          0,
          127
         ],
         "z": [
          0,
          40.7
         ]
        },
        {
         "line": {
          "color": "red",
          "width": 1.5
         },
         "mode": "lines",
         "name": "High Risk",
         "showlegend": false,
         "type": "scatter3d",
         "x": [
          0,
          84
         ],
         "y": [
          0,
          82
         ],
         "z": [
          0,
          38.7
         ]
        },
        {
         "marker": {
          "color": "red",
          "size": 4,
          "symbol": "cross"
         },
         "mode": "markers",
         "name": "High Risk Tip",
         "showlegend": false,
         "type": "scatter3d",
         "x": [
          92,
          91,
          88,
          80,
          88,
          89,
          80,
          82,
          84,
          96,
          89,
          84
         ],
         "y": [
          151,
          135,
          107,
          131,
          131,
          130,
          129,
          131,
          127,
          122,
          127,
          82
         ],
         "z": [
          38.5,
          38.4,
          40.7,
          38.6,
          39.3,
          39.7,
          39.4,
          40.6,
          39,
          39.7,
          40.7,
          38.7
         ]
        }
       ],
       "layout": {
        "autosize": true,
        "height": 900,
        "margin": {
         "b": 0,
         "l": 0,
         "r": 0,
         "t": 40
        },
        "scene": {
         "aspectmode": "cube",
         "camera": {
          "eye": {
           "x": 1.5,
           "y": 1.5,
           "z": 1.5
          }
         },
         "xaxis": {
          "range": [
           0,
           98.5
          ],
          "showgrid": true,
          "showline": true,
          "showspikes": true,
          "title": {
           "text": "Respiratory Rate"
          },
          "visible": true,
          "zeroline": true
         },
         "yaxis": {
          "range": [
           0,
           152
          ],
          "showgrid": true,
          "showline": true,
          "showspikes": true,
          "title": {
           "text": "Systolic BP"
          },
          "visible": true,
          "zeroline": true
         },
         "zaxis": {
          "range": [
           0,
           40.900000000000006
          ],
          "showgrid": true,
          "showline": true,
          "showspikes": true,
          "title": {
           "text": "Temperature"
          },
          "visible": true,
          "zeroline": true
         }
        },
        "showlegend": true,
        "template": {
         "data": {
          "bar": [
           {
            "error_x": {
             "color": "#2a3f5f"
            },
            "error_y": {
             "color": "#2a3f5f"
            },
            "marker": {
             "line": {
              "color": "#E5ECF6",
              "width": 0.5
             },
             "pattern": {
              "fillmode": "overlay",
              "size": 10,
              "solidity": 0.2
             }
            },
            "type": "bar"
           }
          ],
          "barpolar": [
           {
            "marker": {
             "line": {
              "color": "#E5ECF6",
              "width": 0.5
             },
             "pattern": {
              "fillmode": "overlay",
              "size": 10,
              "solidity": 0.2
             }
            },
            "type": "barpolar"
           }
          ],
          "carpet": [
           {
            "aaxis": {
             "endlinecolor": "#2a3f5f",
             "gridcolor": "white",
             "linecolor": "white",
             "minorgridcolor": "white",
             "startlinecolor": "#2a3f5f"
            },
            "baxis": {
             "endlinecolor": "#2a3f5f",
             "gridcolor": "white",
             "linecolor": "white",
             "minorgridcolor": "white",
             "startlinecolor": "#2a3f5f"
            },
            "type": "carpet"
           }
          ],
          "choropleth": [
           {
            "colorbar": {
             "outlinewidth": 0,
             "ticks": ""
            },
            "type": "choropleth"
           }
          ],
          "contour": [
           {
            "colorbar": {
             "outlinewidth": 0,
             "ticks": ""
            },
            "colorscale": [
             [
              0,
              "#0d0887"
             ],
             [
              0.1111111111111111,
              "#46039f"
             ],
             [
              0.2222222222222222,
              "#7201a8"
             ],
             [
              0.3333333333333333,
              "#9c179e"
             ],
             [
              0.4444444444444444,
              "#bd3786"
             ],
             [
              0.5555555555555556,
              "#d8576b"
             ],
             [
              0.6666666666666666,
              "#ed7953"
             ],
             [
              0.7777777777777778,
              "#fb9f3a"
             ],
             [
              0.8888888888888888,
              "#fdca26"
             ],
             [
              1,
              "#f0f921"
             ]
            ],
            "type": "contour"
           }
          ],
          "contourcarpet": [
           {
            "colorbar": {
             "outlinewidth": 0,
             "ticks": ""
            },
            "type": "contourcarpet"
           }
          ],
          "heatmap": [
           {
            "colorbar": {
             "outlinewidth": 0,
             "ticks": ""
            },
            "colorscale": [
             [
              0,
              "#0d0887"
             ],
             [
              0.1111111111111111,
              "#46039f"
             ],
             [
              0.2222222222222222,
              "#7201a8"
             ],
             [
              0.3333333333333333,
              "#9c179e"
             ],
             [
              0.4444444444444444,
              "#bd3786"
             ],
             [
              0.5555555555555556,
              "#d8576b"
             ],
             [
              0.6666666666666666,
              "#ed7953"
             ],
             [
              0.7777777777777778,
              "#fb9f3a"
             ],
             [
              0.8888888888888888,
              "#fdca26"
             ],
             [
              1,
              "#f0f921"
             ]
            ],
            "type": "heatmap"
           }
          ],
          "histogram": [
           {
            "marker": {
             "pattern": {
              "fillmode": "overlay",
              "size": 10,
              "solidity": 0.2
             }
            },
            "type": "histogram"
           }
          ],
          "histogram2d": [
           {
            "colorbar": {
             "outlinewidth": 0,
             "ticks": ""
            },
            "colorscale": [
             [
              0,
              "#0d0887"
             ],
             [
              0.1111111111111111,
              "#46039f"
             ],
             [
              0.2222222222222222,
              "#7201a8"
             ],
             [
              0.3333333333333333,
              "#9c179e"
             ],
             [
              0.4444444444444444,
              "#bd3786"
             ],
             [
              0.5555555555555556,
              "#d8576b"
             ],
             [
              0.6666666666666666,
              "#ed7953"
             ],
             [
              0.7777777777777778,
              "#fb9f3a"
             ],
             [
              0.8888888888888888,
              "#fdca26"
             ],
             [
              1,
              "#f0f921"
             ]
            ],
            "type": "histogram2d"
           }
          ],
          "histogram2dcontour": [
           {
            "colorbar": {
             "outlinewidth": 0,
             "ticks": ""
            },
            "colorscale": [
             [
              0,
              "#0d0887"
             ],
             [
              0.1111111111111111,
              "#46039f"
             ],
             [
              0.2222222222222222,
              "#7201a8"
             ],
             [
              0.3333333333333333,
              "#9c179e"
             ],
             [
              0.4444444444444444,
              "#bd3786"
             ],
             [
              0.5555555555555556,
              "#d8576b"
             ],
             [
              0.6666666666666666,
              "#ed7953"
             ],
             [
              0.7777777777777778,
              "#fb9f3a"
             ],
             [
              0.8888888888888888,
              "#fdca26"
             ],
             [
              1,
              "#f0f921"
             ]
            ],
            "type": "histogram2dcontour"
           }
          ],
          "mesh3d": [
           {
            "colorbar": {
             "outlinewidth": 0,
             "ticks": ""
            },
            "type": "mesh3d"
           }
          ],
          "parcoords": [
           {
            "line": {
             "colorbar": {
              "outlinewidth": 0,
              "ticks": ""
             }
            },
            "type": "parcoords"
           }
          ],
          "pie": [
           {
            "automargin": true,
            "type": "pie"
           }
          ],
          "scatter": [
           {
            "fillpattern": {
             "fillmode": "overlay",
             "size": 10,
             "solidity": 0.2
            },
            "type": "scatter"
           }
          ],
          "scatter3d": [
           {
            "line": {
             "colorbar": {
              "outlinewidth": 0,
              "ticks": ""
             }
            },
            "marker": {
             "colorbar": {
              "outlinewidth": 0,
              "ticks": ""
             }
            },
            "type": "scatter3d"
           }
          ],
          "scattercarpet": [
           {
            "marker": {
             "colorbar": {
              "outlinewidth": 0,
              "ticks": ""
             }
            },
            "type": "scattercarpet"
           }
          ],
          "scattergeo": [
           {
            "marker": {
             "colorbar": {
              "outlinewidth": 0,
              "ticks": ""
             }
            },
            "type": "scattergeo"
           }
          ],
          "scattergl": [
           {
            "marker": {
             "colorbar": {
              "outlinewidth": 0,
              "ticks": ""
             }
            },
            "type": "scattergl"
           }
          ],
          "scattermap": [
           {
            "marker": {
             "colorbar": {
              "outlinewidth": 0,
              "ticks": ""
             }
            },
            "type": "scattermap"
           }
          ],
          "scattermapbox": [
           {
            "marker": {
             "colorbar": {
              "outlinewidth": 0,
              "ticks": ""
             }
            },
            "type": "scattermapbox"
           }
          ],
          "scatterpolar": [
           {
            "marker": {
             "colorbar": {
              "outlinewidth": 0,
              "ticks": ""
             }
            },
            "type": "scatterpolar"
           }
          ],
          "scatterpolargl": [
           {
            "marker": {
             "colorbar": {
              "outlinewidth": 0,
              "ticks": ""
             }
            },
            "type": "scatterpolargl"
           }
          ],
          "scatterternary": [
           {
            "marker": {
             "colorbar": {
              "outlinewidth": 0,
              "ticks": ""
             }
            },
            "type": "scatterternary"
           }
          ],
          "surface": [
           {
            "colorbar": {
             "outlinewidth": 0,
             "ticks": ""
            },
            "colorscale": [
             [
              0,
              "#0d0887"
             ],
             [
              0.1111111111111111,
              "#46039f"
             ],
             [
              0.2222222222222222,
              "#7201a8"
             ],
             [
              0.3333333333333333,
              "#9c179e"
             ],
             [
              0.4444444444444444,
              "#bd3786"
             ],
             [
              0.5555555555555556,
              "#d8576b"
             ],
             [
              0.6666666666666666,
              "#ed7953"
             ],
             [
              0.7777777777777778,
              "#fb9f3a"
             ],
             [
              0.8888888888888888,
              "#fdca26"
             ],
             [
              1,
              "#f0f921"
             ]
            ],
            "type": "surface"
           }
          ],
          "table": [
           {
            "cells": {
             "fill": {
              "color": "#EBF0F8"
             },
             "line": {
              "color": "white"
             }
            },
            "header": {
             "fill": {
              "color": "#C8D4E3"
             },
             "line": {
              "color": "white"
             }
            },
            "type": "table"
           }
          ]
         },
         "layout": {
          "annotationdefaults": {
           "arrowcolor": "#2a3f5f",
           "arrowhead": 0,
           "arrowwidth": 1
          },
          "autotypenumbers": "strict",
          "coloraxis": {
           "colorbar": {
            "outlinewidth": 0,
            "ticks": ""
           }
          },
          "colorscale": {
           "diverging": [
            [
             0,
             "#8e0152"
            ],
            [
             0.1,
             "#c51b7d"
            ],
            [
             0.2,
             "#de77ae"
            ],
            [
             0.3,
             "#f1b6da"
            ],
            [
             0.4,
             "#fde0ef"
            ],
            [
             0.5,
             "#f7f7f7"
            ],
            [
             0.6,
             "#e6f5d0"
            ],
            [
             0.7,
             "#b8e186"
            ],
            [
             0.8,
             "#7fbc41"
            ],
            [
             0.9,
             "#4d9221"
            ],
            [
             1,
             "#276419"
            ]
           ],
           "sequential": [
            [
             0,
             "#0d0887"
            ],
            [
             0.1111111111111111,
             "#46039f"
            ],
            [
             0.2222222222222222,
             "#7201a8"
            ],
            [
             0.3333333333333333,
             "#9c179e"
            ],
            [
             0.4444444444444444,
             "#bd3786"
            ],
            [
             0.5555555555555556,
             "#d8576b"
            ],
            [
             0.6666666666666666,
             "#ed7953"
            ],
            [
             0.7777777777777778,
             "#fb9f3a"
            ],
            [
             0.8888888888888888,
             "#fdca26"
            ],
            [
             1,
             "#f0f921"
            ]
           ],
           "sequentialminus": [
            [
             0,
             "#0d0887"
            ],
            [
             0.1111111111111111,
             "#46039f"
            ],
            [
             0.2222222222222222,
             "#7201a8"
            ],
            [
             0.3333333333333333,
             "#9c179e"
            ],
            [
             0.4444444444444444,
             "#bd3786"
            ],
            [
             0.5555555555555556,
             "#d8576b"
            ],
            [
             0.6666666666666666,
             "#ed7953"
            ],
            [
             0.7777777777777778,
             "#fb9f3a"
            ],
            [
             0.8888888888888888,
             "#fdca26"
            ],
            [
             1,
             "#f0f921"
            ]
           ]
          },
          "colorway": [
           "#636efa",
           "#EF553B",
           "#00cc96",
           "#ab63fa",
           "#FFA15A",
           "#19d3f3",
           "#FF6692",
           "#B6E880",
           "#FF97FF",
           "#FECB52"
          ],
          "font": {
           "color": "#2a3f5f"
          },
          "geo": {
           "bgcolor": "white",
           "lakecolor": "white",
           "landcolor": "#E5ECF6",
           "showlakes": true,
           "showland": true,
           "subunitcolor": "white"
          },
          "hoverlabel": {
           "align": "left"
          },
          "hovermode": "closest",
          "mapbox": {
           "style": "light"
          },
          "paper_bgcolor": "white",
          "plot_bgcolor": "#E5ECF6",
          "polar": {
           "angularaxis": {
            "gridcolor": "white",
            "linecolor": "white",
            "ticks": ""
           },
           "bgcolor": "#E5ECF6",
           "radialaxis": {
            "gridcolor": "white",
            "linecolor": "white",
            "ticks": ""
           }
          },
          "scene": {
           "xaxis": {
            "backgroundcolor": "#E5ECF6",
            "gridcolor": "white",
            "gridwidth": 2,
            "linecolor": "white",
            "showbackground": true,
            "ticks": "",
            "zerolinecolor": "white"
           },
           "yaxis": {
            "backgroundcolor": "#E5ECF6",
            "gridcolor": "white",
            "gridwidth": 2,
            "linecolor": "white",
            "showbackground": true,
            "ticks": "",
            "zerolinecolor": "white"
           },
           "zaxis": {
            "backgroundcolor": "#E5ECF6",
            "gridcolor": "white",
            "gridwidth": 2,
            "linecolor": "white",
            "showbackground": true,
            "ticks": "",
            "zerolinecolor": "white"
           }
          },
          "shapedefaults": {
           "line": {
            "color": "#2a3f5f"
           }
          },
          "ternary": {
           "aaxis": {
            "gridcolor": "white",
            "linecolor": "white",
            "ticks": ""
           },
           "baxis": {
            "gridcolor": "white",
            "linecolor": "white",
            "ticks": ""
           },
           "bgcolor": "#E5ECF6",
           "caxis": {
            "gridcolor": "white",
            "linecolor": "white",
            "ticks": ""
           }
          },
          "title": {
           "x": 0.05
          },
          "xaxis": {
           "automargin": true,
           "gridcolor": "white",
           "linecolor": "white",
           "ticks": "",
           "title": {
            "standoff": 15
           },
           "zerolinecolor": "white",
           "zerolinewidth": 2
          },
          "yaxis": {
           "automargin": true,
           "gridcolor": "white",
           "linecolor": "white",
           "ticks": "",
           "title": {
            "standoff": 15
           },
           "zerolinecolor": "white",
           "zerolinewidth": 2
          }
         }
        },
        "title": {
         "text": "3D Vectors of Respiratory Rate, Systolic BP, and Temperature by Risk Level (Sample of 15)"
        },
        "width": 1200
       }
      }
     },
     "metadata": {},
     "output_type": "display_data"
    }
   ],
   "source": [
    "# The following graph is ONLY for visualization, not for model training. We'll draw 3 orthogonal axes, and colour the vectors according to risk level.\n",
    "color_map = {'Low': 'green', 'Normal': 'blue', 'Medium': 'orange', 'High': 'red'}\n",
    "\n",
    "# Select the first 30 datapoints for plotting\n",
    "df_sample = df.iloc[:30]\n",
    "label_sample = label.iloc[:30]\n",
    "\n",
    "respiratory_rate = df_sample.iloc[:, 1]  # Respiratory_Rate\n",
    "systolic_bp = df_sample.iloc[:, 4]       # Systolic_BP\n",
    "temperature = df_sample['Temperature']  # Correct column for numerical temperature values\n",
    "\n",
    "# Prepare data for vectors (lines from origin to each point)\n",
    "x_lines = []\n",
    "y_lines = []\n",
    "z_lines = []\n",
    "colors = []\n",
    "risk_labels = []\n",
    "\n",
    "for i in range(len(df_sample)):\n",
    "    x_lines.extend([0, respiratory_rate.iloc[i], None])  # None to break line segments\n",
    "    y_lines.extend([0, systolic_bp.iloc[i], None])\n",
    "    z_lines.extend([0, float(temperature.iloc[i]), None])  # Ensure numerical values for z axis\n",
    "    color = color_map[label_sample.iloc[i]]\n",
    "    colors.extend([color, color, color])  # Repeat for each segment\n",
    "    risk_labels.append(label_sample.iloc[i])\n",
    "\n",
    "# Make the scale even smaller for a focused plot\n",
    "x_max = max(abs(respiratory_rate.min()), abs(respiratory_rate.max())) + 0.5\n",
    "y_max = max(abs(systolic_bp.min()), abs(systolic_bp.max())) + 1\n",
    "z_max = max(abs(float(temperature.min())), abs(float(temperature.max()))) + 0.2\n",
    "\n",
    "# Create the 3D plot with skinnier arrows\n",
    "fig = go.Figure()\n",
    "\n",
    "# Add lines and tips for each risk level, but only show legend once per color\n",
    "for risk in color_map.keys():\n",
    "    indices = [i for i, l in enumerate(label_sample) if l == risk]\n",
    "    # Add lines (vectors)\n",
    "    for j, i in enumerate(indices):\n",
    "        fig.add_trace(go.Scatter3d(\n",
    "            x=[0, respiratory_rate.iloc[i]],\n",
    "            y=[0, systolic_bp.iloc[i]],\n",
    "            z=[0, float(temperature.iloc[i])],\n",
    "            mode='lines',\n",
    "            line=dict(color=color_map[risk], width=1.5),\n",
    "            name=f'{risk} Risk',\n",
    "            showlegend=(j == 0)  # Only show one legend entry per risk\n",
    "        ))\n",
    "    # Add tips (markers) but do not show legend\n",
    "    fig.add_trace(go.Scatter3d(\n",
    "        x=[respiratory_rate.iloc[i] for i in indices],\n",
    "        y=[systolic_bp.iloc[i] for i in indices],\n",
    "        z=[float(temperature.iloc[i]) for i in indices],\n",
    "        mode='markers',\n",
    "        marker=dict(size=4, color=color_map[risk], symbol='cross'),\n",
    "        name=f'{risk} Risk Tip',\n",
    "        showlegend=False\n",
    "    ))\n",
    "\n",
    "\n",
    "# Update layout for visual appeal, centering at origin, always show axes, and maximize canvas\n",
    "fig.update_layout(\n",
    "    title='3D Vectors of Respiratory Rate, Systolic BP, and Temperature by Risk Level (Sample of 15)',\n",
    "    scene=dict(\n",
    "        xaxis_title='Respiratory Rate',\n",
    "        yaxis_title='Systolic BP',\n",
    "        zaxis_title='Temperature',\n",
    "        xaxis=dict(range=[0, x_max], showspikes=True, showline=True, zeroline=True, showgrid=True, visible=True),\n",
    "        yaxis=dict(range=[0, y_max], showspikes=True, showline=True, zeroline=True, showgrid=True, visible=True),\n",
    "        zaxis=dict(range=[0, z_max], showspikes=True, showline=True, zeroline=True, showgrid=True, visible=True),\n",
    "        aspectmode='cube',\n",
    "        camera=dict(eye=dict(x=1.5, y=1.5, z=1.5))\n",
    "    ),\n",
    "    showlegend=True,\n",
    "    autosize=True,\n",
    "    margin=dict(l=0, r=0, b=0, t=40),\n",
    "    height=900,\n",
    "    width=1200\n",
    " )\n",
    "\n",
    "fig.show()"
   ]
  },
  {
   "cell_type": "code",
   "execution_count": null,
   "id": "1b9fcc23",
   "metadata": {},
   "outputs": [
    {
     "name": "stdout",
     "output_type": "stream",
     "text": [
      "Predicted risk level for new vector: High\n",
      "Predicted risk level for new vector: Medium\n"
     ]
    }
   ],
   "source": [
    "# Now onto the actual prediction example\n",
    "import sys\n",
    "import numpy as np\n",
    "\n",
    "sys.path.append('..')\n",
    "\n",
    "from distances.cos_sim import cosine_similarity\n",
    "\n",
    "# Recall that df and label are our features and labels respectively\n",
    "\n",
    "# label holds risk level whereas\n",
    "# df holds everything else\n",
    "\n",
    "def health_risk_predictor(new_vector: np.ndarray) -> str:\n",
    "    df = pd.read_csv(\"../data/Health-Risk.csv\")\n",
    "\n",
    "    label = df['Risk_Level']\n",
    "    \n",
    "    # Note that second-last column uses AVUP system\n",
    "    # A: Awake (most conscious)\n",
    "    # V: Verbal (answers but may be drowsy)\n",
    "    # P: Pain (responsive to pain)\n",
    "    # U: Unresponsive\n",
    "\n",
    "    avup_map = {'A': 3, 'V': 2, 'P': 1, 'U': 0}\n",
    "    df['Consciousness'] = df['Consciousness'].map(avup_map)\n",
    "\n",
    "    # Map the 'Consciousness' value in new_vector (second last column) if it's a string\n",
    "    new_vector = new_vector.copy()\n",
    "    if isinstance(new_vector[-2], str):\n",
    "        new_vector[-2] = avup_map.get(new_vector[-2], new_vector[-2])\n",
    "        new_vector = np.array(new_vector, dtype=float)\n",
    "\n",
    "    # Select only feature columns (exclude ID, Risk_Level)\n",
    "    df = df.iloc[:, 1:9]\n",
    "\n",
    "    similarities = np.array([cosine_similarity(new_vector, row) for row in df.to_numpy()])\n",
    "\n",
    "    # It's important to have a high k-value in this case, as a false negative is very costly.\n",
    "    k = 20\n",
    "    top_k_indices = np.argsort(similarities)[-k:]  # Get indices of k largest similarities\n",
    "\n",
    "    # Get their risk levels\n",
    "    neighbor_risks = label.iloc[top_k_indices]\n",
    "\n",
    "    # Predict by majority vote\n",
    "    predicted_risk = neighbor_risks.value_counts().idxmax()\n",
    "    print(\"Predicted risk level for new vector:\", predicted_risk)\n",
    "    return predicted_risk\n",
    "\n",
    "# Example new data (replace 'A' with 3, 'V' with 2, etc. for Consciousness)\n",
    "new_data = np.array([24,85,1,90,126,38.2,'A',1])\n",
    "\n",
    "health_risk = health_risk_predictor(new_data)\n",
    "\n",
    "new_data2 = np.array([18,91,1,102,89,37.6,'A',0])\n",
    "\n",
    "health_risk2 = health_risk_predictor(new_data2)\n",
    "\n",
    "print(\"So far so good. Model is accurate.\")\n"
   ]
  }
 ],
 "metadata": {
  "kernelspec": {
   "display_name": "base",
   "language": "python",
   "name": "python3"
  },
  "language_info": {
   "codemirror_mode": {
    "name": "ipython",
    "version": 3
   },
   "file_extension": ".py",
   "mimetype": "text/x-python",
   "name": "python",
   "nbconvert_exporter": "python",
   "pygments_lexer": "ipython3",
   "version": "3.13.5"
  }
 },
 "nbformat": 4,
 "nbformat_minor": 5
}
