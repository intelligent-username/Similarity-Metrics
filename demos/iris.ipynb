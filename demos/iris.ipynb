{
 "cells": [
  {
   "cell_type": "markdown",
   "id": "8dbeacf0",
   "metadata": {},
   "source": [
    "# Iris Dataset\n",
    "\n",
    "Contains data about iris flowers, including features like sepal length, sepal width, petal length, and petal width, along with their species labels. We want to simply visualize the relationships between these features and the species labels.\n",
    "\n",
    "Then, create a similarity matrix to see if we notice any patterns that we didn't beforehand."
   ]
  },
  {
   "cell_type": "markdown",
   "id": "e6b4164a",
   "metadata": {},
   "source": [
    "## Scatter Plots"
   ]
  },
  {
   "cell_type": "code",
   "execution_count": null,
   "id": "22ddcc4b",
   "metadata": {},
   "outputs": [
    {
     "data": {
      "application/vnd.plotly.v1+json": {
       "config": {
        "plotlyServerURL": "https://plot.ly",
        "toImageButtonOptions": {
         "filename": "iris_plots",
         "format": "png",
         "height": 1200,
         "scale": 5,
         "width": 1000
        }
       },
       "data": [
        {
         "legendgroup": "2d",
         "marker": {
          "color": "blue",
          "opacity": 0.8,
          "size": 8
         },
         "mode": "markers",
         "name": "Iris-setosa",
         "type": "scatter",
         "x": {
          "bdata": "mpmZmZmZyT+amZmZmZnJP5qZmZmZmck/mpmZmZmZyT+amZmZmZnJP5qZmZmZmdk/MzMzMzMz0z+amZmZmZnJP5qZmZmZmck/mpmZmZmZuT+amZmZmZnJP5qZmZmZmck/mpmZmZmZuT+amZmZmZm5P5qZmZmZmck/mpmZmZmZ2T+amZmZmZnZPzMzMzMzM9M/MzMzMzMz0z8zMzMzMzPTP5qZmZmZmck/mpmZmZmZ2T+amZmZmZnJPwAAAAAAAOA/mpmZmZmZyT+amZmZmZnJP5qZmZmZmdk/mpmZmZmZyT+amZmZmZnJP5qZmZmZmck/mpmZmZmZyT+amZmZmZnZP5qZmZmZmbk/mpmZmZmZyT+amZmZmZm5P5qZmZmZmck/mpmZmZmZyT+amZmZmZm5P5qZmZmZmck/mpmZmZmZyT8zMzMzMzPTPzMzMzMzM9M/mpmZmZmZyT8zMzMzMzPjP5qZmZmZmdk/MzMzMzMz0z+amZmZmZnJP5qZmZmZmck/mpmZmZmZyT+amZmZmZnJPw==",
          "dtype": "f8"
         },
         "xaxis": "x",
         "y": {
          "bdata": "ZmZmZmZmFECamZmZmZkTQM3MzMzMzBJAZmZmZmZmEkAAAAAAAAAUQJqZmZmZmRVAZmZmZmZmEkAAAAAAAAAUQJqZmZmZmRFAmpmZmZmZE0CamZmZmZkVQDMzMzMzMxNAMzMzMzMzE0AzMzMzMzMRQDMzMzMzMxdAzczMzMzMFkCamZmZmZkVQGZmZmZmZhRAzczMzMzMFkBmZmZmZmYUQJqZmZmZmRVAZmZmZmZmFEBmZmZmZmYSQGZmZmZmZhRAMzMzMzMzE0AAAAAAAAAUQAAAAAAAABRAzczMzMzMFEDNzMzMzMwUQM3MzMzMzBJAMzMzMzMzE0CamZmZmZkVQM3MzMzMzBRAAAAAAAAAFkCamZmZmZkTQAAAAAAAABRAAAAAAAAAFkCamZmZmZkTQJqZmZmZmRFAZmZmZmZmFEAAAAAAAAAUQAAAAAAAABJAmpmZmZmZEUAAAAAAAAAUQGZmZmZmZhRAMzMzMzMzE0BmZmZmZmYUQGZmZmZmZhJAMzMzMzMzFUAAAAAAAAAUQA==",
          "dtype": "f8"
         },
         "yaxis": "y"
        },
        {
         "legendgroup": "2d",
         "marker": {
          "color": "orange",
          "opacity": 0.8,
          "size": 8
         },
         "mode": "markers",
         "name": "Iris-versicolor",
         "type": "scatter",
         "x": {
          "bdata": "ZmZmZmZm9j8AAAAAAAD4PwAAAAAAAPg/zczMzMzM9D8AAAAAAAD4P83MzMzMzPQ/mpmZmZmZ+T8AAAAAAADwP83MzMzMzPQ/ZmZmZmZm9j8AAAAAAADwPwAAAAAAAPg/AAAAAAAA8D9mZmZmZmb2P83MzMzMzPQ/ZmZmZmZm9j8AAAAAAAD4PwAAAAAAAPA/AAAAAAAA+D+amZmZmZnxP83MzMzMzPw/zczMzMzM9D8AAAAAAAD4PzMzMzMzM/M/zczMzMzM9D9mZmZmZmb2P2ZmZmZmZvY/MzMzMzMz+z8AAAAAAAD4PwAAAAAAAPA/mpmZmZmZ8T8AAAAAAADwPzMzMzMzM/M/mpmZmZmZ+T8AAAAAAAD4P5qZmZmZmfk/AAAAAAAA+D/NzMzMzMz0P83MzMzMzPQ/zczMzMzM9D8zMzMzMzPzP2ZmZmZmZvY/MzMzMzMz8z8AAAAAAADwP83MzMzMzPQ/MzMzMzMz8z/NzMzMzMz0P83MzMzMzPQ/mpmZmZmZ8T/NzMzMzMz0Pw==",
          "dtype": "f8"
         },
         "xaxis": "x",
         "y": {
          "bdata": "AAAAAAAAHECamZmZmZkZQJqZmZmZmRtAAAAAAAAAFkAAAAAAAAAaQM3MzMzMzBZAMzMzMzMzGUCamZmZmZkTQGZmZmZmZhpAzczMzMzMFEAAAAAAAAAUQJqZmZmZmRdAAAAAAAAAGEBmZmZmZmYYQGZmZmZmZhZAzczMzMzMGkBmZmZmZmYWQDMzMzMzMxdAzczMzMzMGEBmZmZmZmYWQJqZmZmZmRdAZmZmZmZmGEAzMzMzMzMZQGZmZmZmZhhAmpmZmZmZGUBmZmZmZmYaQDMzMzMzMxtAzczMzMzMGkAAAAAAAAAYQM3MzMzMzBZAAAAAAAAAFkAAAAAAAAAWQDMzMzMzMxdAAAAAAAAAGECamZmZmZkVQAAAAAAAABhAzczMzMzMGkAzMzMzMzMZQGZmZmZmZhZAAAAAAAAAFkAAAAAAAAAWQGZmZmZmZhhAMzMzMzMzF0AAAAAAAAAUQGZmZmZmZhZAzczMzMzMFkDNzMzMzMwWQM3MzMzMzBhAZmZmZmZmFEDNzMzMzMwWQA==",
          "dtype": "f8"
         },
         "yaxis": "y"
        },
        {
         "legendgroup": "2d",
         "marker": {
          "color": "red",
          "opacity": 0.8,
          "size": 8
         },
         "mode": "markers",
         "name": "Iris-virginica",
         "type": "scatter",
         "x": {
          "bdata": "AAAAAAAABEBmZmZmZmb+P83MzMzMzABAzczMzMzM/D+amZmZmZkBQM3MzMzMzABAMzMzMzMz+z/NzMzMzMz8P83MzMzMzPw/AAAAAAAABEAAAAAAAAAAQGZmZmZmZv4/zczMzMzMAEAAAAAAAAAAQDMzMzMzMwNAZmZmZmZmAkDNzMzMzMz8P5qZmZmZmQFAZmZmZmZmAkAAAAAAAAD4P2ZmZmZmZgJAAAAAAAAAAEAAAAAAAAAAQM3MzMzMzPw/zczMzMzMAEDNzMzMzMz8P83MzMzMzPw/zczMzMzM/D/NzMzMzMwAQJqZmZmZmfk/ZmZmZmZm/j8AAAAAAAAAQJqZmZmZmQFAAAAAAAAA+D9mZmZmZmb2P2ZmZmZmZgJAMzMzMzMzA0DNzMzMzMz8P83MzMzMzPw/zczMzMzMAEAzMzMzMzMDQGZmZmZmZgJAZmZmZmZm/j9mZmZmZmYCQAAAAAAAAARAZmZmZmZmAkBmZmZmZmb+PwAAAAAAAABAZmZmZmZmAkDNzMzMzMz8Pw==",
          "dtype": "f8"
         },
         "xaxis": "x",
         "y": {
          "bdata": "MzMzMzMzGUAzMzMzMzMXQGZmZmZmZhxAMzMzMzMzGUAAAAAAAAAaQGZmZmZmZh5AmpmZmZmZE0AzMzMzMzMdQM3MzMzMzBpAzczMzMzMHEAAAAAAAAAaQJqZmZmZmRlAMzMzMzMzG0DNzMzMzMwWQDMzMzMzMxdAmpmZmZmZGUAAAAAAAAAaQM3MzMzMzB5AzczMzMzMHkAAAAAAAAAYQJqZmZmZmRtAZmZmZmZmFkDNzMzMzMweQDMzMzMzMxlAzczMzMzMGkDNzMzMzMwcQM3MzMzMzBhAZmZmZmZmGECamZmZmZkZQM3MzMzMzBxAmpmZmZmZHUCamZmZmZkfQJqZmZmZmRlAMzMzMzMzGUBmZmZmZmYYQM3MzMzMzB5AMzMzMzMzGUCamZmZmZkZQAAAAAAAABhAmpmZmZmZG0DNzMzMzMwaQJqZmZmZmRtAMzMzMzMzF0AzMzMzMzMbQM3MzMzMzBpAzczMzMzMGkAzMzMzMzMZQAAAAAAAABpAzczMzMzMGECamZmZmZkXQA==",
          "dtype": "f8"
         },
         "yaxis": "y"
        },
        {
         "legendgroup": "3d",
         "marker": {
          "color": "blue",
          "line": {
           "color": "white",
           "width": 1
          },
          "opacity": 0.9,
          "size": 6
         },
         "mode": "markers",
         "name": "Iris-setosa",
         "scene": "scene",
         "type": "scatter3d",
         "x": {
          "bdata": "mpmZmZmZyT+amZmZmZnJP5qZmZmZmck/mpmZmZmZyT+amZmZmZnJP5qZmZmZmdk/MzMzMzMz0z+amZmZmZnJP5qZmZmZmck/mpmZmZmZuT+amZmZmZnJP5qZmZmZmck/mpmZmZmZuT+amZmZmZm5P5qZmZmZmck/mpmZmZmZ2T+amZmZmZnZPzMzMzMzM9M/MzMzMzMz0z8zMzMzMzPTP5qZmZmZmck/mpmZmZmZ2T+amZmZmZnJPwAAAAAAAOA/mpmZmZmZyT+amZmZmZnJP5qZmZmZmdk/mpmZmZmZyT+amZmZmZnJP5qZmZmZmck/mpmZmZmZyT+amZmZmZnZP5qZmZmZmbk/mpmZmZmZyT+amZmZmZm5P5qZmZmZmck/mpmZmZmZyT+amZmZmZm5P5qZmZmZmck/mpmZmZmZyT8zMzMzMzPTPzMzMzMzM9M/mpmZmZmZyT8zMzMzMzPjP5qZmZmZmdk/MzMzMzMz0z+amZmZmZnJP5qZmZmZmck/mpmZmZmZyT+amZmZmZnJPw==",
          "dtype": "f8"
         },
         "y": {
          "bdata": "ZmZmZmZmFECamZmZmZkTQM3MzMzMzBJAZmZmZmZmEkAAAAAAAAAUQJqZmZmZmRVAZmZmZmZmEkAAAAAAAAAUQJqZmZmZmRFAmpmZmZmZE0CamZmZmZkVQDMzMzMzMxNAMzMzMzMzE0AzMzMzMzMRQDMzMzMzMxdAzczMzMzMFkCamZmZmZkVQGZmZmZmZhRAzczMzMzMFkBmZmZmZmYUQJqZmZmZmRVAZmZmZmZmFEBmZmZmZmYSQGZmZmZmZhRAMzMzMzMzE0AAAAAAAAAUQAAAAAAAABRAzczMzMzMFEDNzMzMzMwUQM3MzMzMzBJAMzMzMzMzE0CamZmZmZkVQM3MzMzMzBRAAAAAAAAAFkCamZmZmZkTQAAAAAAAABRAAAAAAAAAFkCamZmZmZkTQJqZmZmZmRFAZmZmZmZmFEAAAAAAAAAUQAAAAAAAABJAmpmZmZmZEUAAAAAAAAAUQGZmZmZmZhRAMzMzMzMzE0BmZmZmZmYUQGZmZmZmZhJAMzMzMzMzFUAAAAAAAAAUQA==",
          "dtype": "f8"
         },
         "z": {
          "bdata": "ZmZmZmZm9j9mZmZmZmb2P83MzMzMzPQ/AAAAAAAA+D9mZmZmZmb2PzMzMzMzM/s/ZmZmZmZm9j8AAAAAAAD4P2ZmZmZmZvY/AAAAAAAA+D8AAAAAAAD4P5qZmZmZmfk/ZmZmZmZm9j+amZmZmZnxPzMzMzMzM/M/AAAAAAAA+D/NzMzMzMz0P2ZmZmZmZvY/MzMzMzMz+z8AAAAAAAD4PzMzMzMzM/s/AAAAAAAA+D8AAAAAAADwPzMzMzMzM/s/ZmZmZmZm/j+amZmZmZn5P5qZmZmZmfk/AAAAAAAA+D9mZmZmZmb2P5qZmZmZmfk/mpmZmZmZ+T8AAAAAAAD4PwAAAAAAAPg/ZmZmZmZm9j8AAAAAAAD4PzMzMzMzM/M/zczMzMzM9D8AAAAAAAD4P83MzMzMzPQ/AAAAAAAA+D/NzMzMzMz0P83MzMzMzPQ/zczMzMzM9D+amZmZmZn5P2ZmZmZmZv4/ZmZmZmZm9j+amZmZmZn5P2ZmZmZmZvY/AAAAAAAA+D9mZmZmZmb2Pw==",
          "dtype": "f8"
         }
        },
        {
         "legendgroup": "3d",
         "marker": {
          "color": "orange",
          "line": {
           "color": "white",
           "width": 1
          },
          "opacity": 0.9,
          "size": 6
         },
         "mode": "markers",
         "name": "Iris-versicolor",
         "scene": "scene",
         "type": "scatter3d",
         "x": {
          "bdata": "ZmZmZmZm9j8AAAAAAAD4PwAAAAAAAPg/zczMzMzM9D8AAAAAAAD4P83MzMzMzPQ/mpmZmZmZ+T8AAAAAAADwP83MzMzMzPQ/ZmZmZmZm9j8AAAAAAADwPwAAAAAAAPg/AAAAAAAA8D9mZmZmZmb2P83MzMzMzPQ/ZmZmZmZm9j8AAAAAAAD4PwAAAAAAAPA/AAAAAAAA+D+amZmZmZnxP83MzMzMzPw/zczMzMzM9D8AAAAAAAD4PzMzMzMzM/M/zczMzMzM9D9mZmZmZmb2P2ZmZmZmZvY/MzMzMzMz+z8AAAAAAAD4PwAAAAAAAPA/mpmZmZmZ8T8AAAAAAADwPzMzMzMzM/M/mpmZmZmZ+T8AAAAAAAD4P5qZmZmZmfk/AAAAAAAA+D/NzMzMzMz0P83MzMzMzPQ/zczMzMzM9D8zMzMzMzPzP2ZmZmZmZvY/MzMzMzMz8z8AAAAAAADwP83MzMzMzPQ/MzMzMzMz8z/NzMzMzMz0P83MzMzMzPQ/mpmZmZmZ8T/NzMzMzMz0Pw==",
          "dtype": "f8"
         },
         "y": {
          "bdata": "AAAAAAAAHECamZmZmZkZQJqZmZmZmRtAAAAAAAAAFkAAAAAAAAAaQM3MzMzMzBZAMzMzMzMzGUCamZmZmZkTQGZmZmZmZhpAzczMzMzMFEAAAAAAAAAUQJqZmZmZmRdAAAAAAAAAGEBmZmZmZmYYQGZmZmZmZhZAzczMzMzMGkBmZmZmZmYWQDMzMzMzMxdAzczMzMzMGEBmZmZmZmYWQJqZmZmZmRdAZmZmZmZmGEAzMzMzMzMZQGZmZmZmZhhAmpmZmZmZGUBmZmZmZmYaQDMzMzMzMxtAzczMzMzMGkAAAAAAAAAYQM3MzMzMzBZAAAAAAAAAFkAAAAAAAAAWQDMzMzMzMxdAAAAAAAAAGECamZmZmZkVQAAAAAAAABhAzczMzMzMGkAzMzMzMzMZQGZmZmZmZhZAAAAAAAAAFkAAAAAAAAAWQGZmZmZmZhhAMzMzMzMzF0AAAAAAAAAUQGZmZmZmZhZAzczMzMzMFkDNzMzMzMwWQM3MzMzMzBhAZmZmZmZmFEDNzMzMzMwWQA==",
          "dtype": "f8"
         },
         "z": {
          "bdata": "zczMzMzMEkAAAAAAAAASQJqZmZmZmRNAAAAAAAAAEEBmZmZmZmYSQAAAAAAAABJAzczMzMzMEkBmZmZmZmYKQGZmZmZmZhJAMzMzMzMzD0AAAAAAAAAMQM3MzMzMzBBAAAAAAAAAEEDNzMzMzMwSQM3MzMzMzAxAmpmZmZmZEUAAAAAAAAASQGZmZmZmZhBAAAAAAAAAEkAzMzMzMzMPQDMzMzMzMxNAAAAAAAAAEECamZmZmZkTQM3MzMzMzBJAMzMzMzMzEUCamZmZmZkRQDMzMzMzMxNAAAAAAAAAFEAAAAAAAAASQAAAAAAAAAxAZmZmZmZmDkCamZmZmZkNQDMzMzMzMw9AZmZmZmZmFEAAAAAAAAASQAAAAAAAABJAzczMzMzMEkCamZmZmZkRQGZmZmZmZhBAAAAAAAAAEECamZmZmZkRQGZmZmZmZhJAAAAAAAAAEEBmZmZmZmYKQM3MzMzMzBBAzczMzMzMEEDNzMzMzMwQQDMzMzMzMxFAAAAAAAAACEBmZmZmZmYQQA==",
          "dtype": "f8"
         }
        },
        {
         "legendgroup": "3d",
         "marker": {
          "color": "red",
          "line": {
           "color": "white",
           "width": 1
          },
          "opacity": 0.9,
          "size": 6
         },
         "mode": "markers",
         "name": "Iris-virginica",
         "scene": "scene",
         "type": "scatter3d",
         "x": {
          "bdata": "AAAAAAAABEBmZmZmZmb+P83MzMzMzABAzczMzMzM/D+amZmZmZkBQM3MzMzMzABAMzMzMzMz+z/NzMzMzMz8P83MzMzMzPw/AAAAAAAABEAAAAAAAAAAQGZmZmZmZv4/zczMzMzMAEAAAAAAAAAAQDMzMzMzMwNAZmZmZmZmAkDNzMzMzMz8P5qZmZmZmQFAZmZmZmZmAkAAAAAAAAD4P2ZmZmZmZgJAAAAAAAAAAEAAAAAAAAAAQM3MzMzMzPw/zczMzMzMAEDNzMzMzMz8P83MzMzMzPw/zczMzMzM/D/NzMzMzMwAQJqZmZmZmfk/ZmZmZmZm/j8AAAAAAAAAQJqZmZmZmQFAAAAAAAAA+D9mZmZmZmb2P2ZmZmZmZgJAMzMzMzMzA0DNzMzMzMz8P83MzMzMzPw/zczMzMzMAEAzMzMzMzMDQGZmZmZmZgJAZmZmZmZm/j9mZmZmZmYCQAAAAAAAAARAZmZmZmZmAkBmZmZmZmb+PwAAAAAAAABAZmZmZmZmAkDNzMzMzMz8Pw==",
          "dtype": "f8"
         },
         "y": {
          "bdata": "MzMzMzMzGUAzMzMzMzMXQGZmZmZmZhxAMzMzMzMzGUAAAAAAAAAaQGZmZmZmZh5AmpmZmZmZE0AzMzMzMzMdQM3MzMzMzBpAzczMzMzMHEAAAAAAAAAaQJqZmZmZmRlAMzMzMzMzG0DNzMzMzMwWQDMzMzMzMxdAmpmZmZmZGUAAAAAAAAAaQM3MzMzMzB5AzczMzMzMHkAAAAAAAAAYQJqZmZmZmRtAZmZmZmZmFkDNzMzMzMweQDMzMzMzMxlAzczMzMzMGkDNzMzMzMwcQM3MzMzMzBhAZmZmZmZmGECamZmZmZkZQM3MzMzMzBxAmpmZmZmZHUCamZmZmZkfQJqZmZmZmRlAMzMzMzMzGUBmZmZmZmYYQM3MzMzMzB5AMzMzMzMzGUCamZmZmZkZQAAAAAAAABhAmpmZmZmZG0DNzMzMzMwaQJqZmZmZmRtAMzMzMzMzF0AzMzMzMzMbQM3MzMzMzBpAzczMzMzMGkAzMzMzMzMZQAAAAAAAABpAzczMzMzMGECamZmZmZkXQA==",
          "dtype": "f8"
         },
         "z": {
          "bdata": "AAAAAAAAGEBmZmZmZmYUQJqZmZmZmRdAZmZmZmZmFkAzMzMzMzMXQGZmZmZmZhpAAAAAAAAAEkAzMzMzMzMZQDMzMzMzMxdAZmZmZmZmGEBmZmZmZmYUQDMzMzMzMxVAAAAAAAAAFkAAAAAAAAAUQGZmZmZmZhRAMzMzMzMzFUAAAAAAAAAWQM3MzMzMzBpAmpmZmZmZG0AAAAAAAAAUQM3MzMzMzBZAmpmZmZmZE0DNzMzMzMwaQJqZmZmZmRNAzczMzMzMFkAAAAAAAAAYQDMzMzMzMxNAmpmZmZmZE0BmZmZmZmYWQDMzMzMzMxdAZmZmZmZmGECamZmZmZkZQGZmZmZmZhZAZmZmZmZmFEBmZmZmZmYWQGZmZmZmZhhAZmZmZmZmFkAAAAAAAAAWQDMzMzMzMxNAmpmZmZmZFUBmZmZmZmYWQGZmZmZmZhRAZmZmZmZmFECamZmZmZkXQM3MzMzMzBZAzczMzMzMFEAAAAAAAAAUQM3MzMzMzBRAmpmZmZmZFUBmZmZmZmYUQA==",
          "dtype": "f8"
         }
        }
       ],
       "layout": {
        "annotations": [
         {
          "font": {
           "size": 16
          },
          "showarrow": false,
          "text": "2D Scatter Plot",
          "x": 0.5,
          "xanchor": "center",
          "xref": "paper",
          "y": 1,
          "yanchor": "bottom",
          "yref": "paper"
         },
         {
          "font": {
           "size": 16
          },
          "showarrow": false,
          "text": "3D Scatter Plot",
          "x": 0.5,
          "xanchor": "center",
          "xref": "paper",
          "y": 0.375,
          "yanchor": "bottom",
          "yref": "paper"
         }
        ],
        "font": {
         "family": "Arial"
        },
        "height": 1200,
        "legend": {
         "tracegroupgap": 20,
         "x": 1.02,
         "xanchor": "left",
         "y": 0.5,
         "yanchor": "middle"
        },
        "margin": {
         "b": 50,
         "l": 50,
         "r": 200,
         "t": 50
        },
        "scene": {
         "aspectmode": "cube",
         "domain": {
          "x": [
           0,
           1
          ],
          "y": [
           0,
           0.375
          ]
         },
         "xaxis": {
          "title": {
           "text": "Petal Width (cm)"
          }
         },
         "yaxis": {
          "title": {
           "text": "Sepal Length (cm)"
          }
         },
         "zaxis": {
          "title": {
           "text": "Petal Length (cm)"
          }
         }
        },
        "template": {
         "data": {
          "bar": [
           {
            "error_x": {
             "color": "#2a3f5f"
            },
            "error_y": {
             "color": "#2a3f5f"
            },
            "marker": {
             "line": {
              "color": "white",
              "width": 0.5
             },
             "pattern": {
              "fillmode": "overlay",
              "size": 10,
              "solidity": 0.2
             }
            },
            "type": "bar"
           }
          ],
          "barpolar": [
           {
            "marker": {
             "line": {
              "color": "white",
              "width": 0.5
             },
             "pattern": {
              "fillmode": "overlay",
              "size": 10,
              "solidity": 0.2
             }
            },
            "type": "barpolar"
           }
          ],
          "carpet": [
           {
            "aaxis": {
             "endlinecolor": "#2a3f5f",
             "gridcolor": "#C8D4E3",
             "linecolor": "#C8D4E3",
             "minorgridcolor": "#C8D4E3",
             "startlinecolor": "#2a3f5f"
            },
            "baxis": {
             "endlinecolor": "#2a3f5f",
             "gridcolor": "#C8D4E3",
             "linecolor": "#C8D4E3",
             "minorgridcolor": "#C8D4E3",
             "startlinecolor": "#2a3f5f"
            },
            "type": "carpet"
           }
          ],
          "choropleth": [
           {
            "colorbar": {
             "outlinewidth": 0,
             "ticks": ""
            },
            "type": "choropleth"
           }
          ],
          "contour": [
           {
            "colorbar": {
             "outlinewidth": 0,
             "ticks": ""
            },
            "colorscale": [
             [
              0,
              "#0d0887"
             ],
             [
              0.1111111111111111,
              "#46039f"
             ],
             [
              0.2222222222222222,
              "#7201a8"
             ],
             [
              0.3333333333333333,
              "#9c179e"
             ],
             [
              0.4444444444444444,
              "#bd3786"
             ],
             [
              0.5555555555555556,
              "#d8576b"
             ],
             [
              0.6666666666666666,
              "#ed7953"
             ],
             [
              0.7777777777777778,
              "#fb9f3a"
             ],
             [
              0.8888888888888888,
              "#fdca26"
             ],
             [
              1,
              "#f0f921"
             ]
            ],
            "type": "contour"
           }
          ],
          "contourcarpet": [
           {
            "colorbar": {
             "outlinewidth": 0,
             "ticks": ""
            },
            "type": "contourcarpet"
           }
          ],
          "heatmap": [
           {
            "colorbar": {
             "outlinewidth": 0,
             "ticks": ""
            },
            "colorscale": [
             [
              0,
              "#0d0887"
             ],
             [
              0.1111111111111111,
              "#46039f"
             ],
             [
              0.2222222222222222,
              "#7201a8"
             ],
             [
              0.3333333333333333,
              "#9c179e"
             ],
             [
              0.4444444444444444,
              "#bd3786"
             ],
             [
              0.5555555555555556,
              "#d8576b"
             ],
             [
              0.6666666666666666,
              "#ed7953"
             ],
             [
              0.7777777777777778,
              "#fb9f3a"
             ],
             [
              0.8888888888888888,
              "#fdca26"
             ],
             [
              1,
              "#f0f921"
             ]
            ],
            "type": "heatmap"
           }
          ],
          "histogram": [
           {
            "marker": {
             "pattern": {
              "fillmode": "overlay",
              "size": 10,
              "solidity": 0.2
             }
            },
            "type": "histogram"
           }
          ],
          "histogram2d": [
           {
            "colorbar": {
             "outlinewidth": 0,
             "ticks": ""
            },
            "colorscale": [
             [
              0,
              "#0d0887"
             ],
             [
              0.1111111111111111,
              "#46039f"
             ],
             [
              0.2222222222222222,
              "#7201a8"
             ],
             [
              0.3333333333333333,
              "#9c179e"
             ],
             [
              0.4444444444444444,
              "#bd3786"
             ],
             [
              0.5555555555555556,
              "#d8576b"
             ],
             [
              0.6666666666666666,
              "#ed7953"
             ],
             [
              0.7777777777777778,
              "#fb9f3a"
             ],
             [
              0.8888888888888888,
              "#fdca26"
             ],
             [
              1,
              "#f0f921"
             ]
            ],
            "type": "histogram2d"
           }
          ],
          "histogram2dcontour": [
           {
            "colorbar": {
             "outlinewidth": 0,
             "ticks": ""
            },
            "colorscale": [
             [
              0,
              "#0d0887"
             ],
             [
              0.1111111111111111,
              "#46039f"
             ],
             [
              0.2222222222222222,
              "#7201a8"
             ],
             [
              0.3333333333333333,
              "#9c179e"
             ],
             [
              0.4444444444444444,
              "#bd3786"
             ],
             [
              0.5555555555555556,
              "#d8576b"
             ],
             [
              0.6666666666666666,
              "#ed7953"
             ],
             [
              0.7777777777777778,
              "#fb9f3a"
             ],
             [
              0.8888888888888888,
              "#fdca26"
             ],
             [
              1,
              "#f0f921"
             ]
            ],
            "type": "histogram2dcontour"
           }
          ],
          "mesh3d": [
           {
            "colorbar": {
             "outlinewidth": 0,
             "ticks": ""
            },
            "type": "mesh3d"
           }
          ],
          "parcoords": [
           {
            "line": {
             "colorbar": {
              "outlinewidth": 0,
              "ticks": ""
             }
            },
            "type": "parcoords"
           }
          ],
          "pie": [
           {
            "automargin": true,
            "type": "pie"
           }
          ],
          "scatter": [
           {
            "fillpattern": {
             "fillmode": "overlay",
             "size": 10,
             "solidity": 0.2
            },
            "type": "scatter"
           }
          ],
          "scatter3d": [
           {
            "line": {
             "colorbar": {
              "outlinewidth": 0,
              "ticks": ""
             }
            },
            "marker": {
             "colorbar": {
              "outlinewidth": 0,
              "ticks": ""
             }
            },
            "type": "scatter3d"
           }
          ],
          "scattercarpet": [
           {
            "marker": {
             "colorbar": {
              "outlinewidth": 0,
              "ticks": ""
             }
            },
            "type": "scattercarpet"
           }
          ],
          "scattergeo": [
           {
            "marker": {
             "colorbar": {
              "outlinewidth": 0,
              "ticks": ""
             }
            },
            "type": "scattergeo"
           }
          ],
          "scattergl": [
           {
            "marker": {
             "colorbar": {
              "outlinewidth": 0,
              "ticks": ""
             }
            },
            "type": "scattergl"
           }
          ],
          "scattermap": [
           {
            "marker": {
             "colorbar": {
              "outlinewidth": 0,
              "ticks": ""
             }
            },
            "type": "scattermap"
           }
          ],
          "scattermapbox": [
           {
            "marker": {
             "colorbar": {
              "outlinewidth": 0,
              "ticks": ""
             }
            },
            "type": "scattermapbox"
           }
          ],
          "scatterpolar": [
           {
            "marker": {
             "colorbar": {
              "outlinewidth": 0,
              "ticks": ""
             }
            },
            "type": "scatterpolar"
           }
          ],
          "scatterpolargl": [
           {
            "marker": {
             "colorbar": {
              "outlinewidth": 0,
              "ticks": ""
             }
            },
            "type": "scatterpolargl"
           }
          ],
          "scatterternary": [
           {
            "marker": {
             "colorbar": {
              "outlinewidth": 0,
              "ticks": ""
             }
            },
            "type": "scatterternary"
           }
          ],
          "surface": [
           {
            "colorbar": {
             "outlinewidth": 0,
             "ticks": ""
            },
            "colorscale": [
             [
              0,
              "#0d0887"
             ],
             [
              0.1111111111111111,
              "#46039f"
             ],
             [
              0.2222222222222222,
              "#7201a8"
             ],
             [
              0.3333333333333333,
              "#9c179e"
             ],
             [
              0.4444444444444444,
              "#bd3786"
             ],
             [
              0.5555555555555556,
              "#d8576b"
             ],
             [
              0.6666666666666666,
              "#ed7953"
             ],
             [
              0.7777777777777778,
              "#fb9f3a"
             ],
             [
              0.8888888888888888,
              "#fdca26"
             ],
             [
              1,
              "#f0f921"
             ]
            ],
            "type": "surface"
           }
          ],
          "table": [
           {
            "cells": {
             "fill": {
              "color": "#EBF0F8"
             },
             "line": {
              "color": "white"
             }
            },
            "header": {
             "fill": {
              "color": "#C8D4E3"
             },
             "line": {
              "color": "white"
             }
            },
            "type": "table"
           }
          ]
         },
         "layout": {
          "annotationdefaults": {
           "arrowcolor": "#2a3f5f",
           "arrowhead": 0,
           "arrowwidth": 1
          },
          "autotypenumbers": "strict",
          "coloraxis": {
           "colorbar": {
            "outlinewidth": 0,
            "ticks": ""
           }
          },
          "colorscale": {
           "diverging": [
            [
             0,
             "#8e0152"
            ],
            [
             0.1,
             "#c51b7d"
            ],
            [
             0.2,
             "#de77ae"
            ],
            [
             0.3,
             "#f1b6da"
            ],
            [
             0.4,
             "#fde0ef"
            ],
            [
             0.5,
             "#f7f7f7"
            ],
            [
             0.6,
             "#e6f5d0"
            ],
            [
             0.7,
             "#b8e186"
            ],
            [
             0.8,
             "#7fbc41"
            ],
            [
             0.9,
             "#4d9221"
            ],
            [
             1,
             "#276419"
            ]
           ],
           "sequential": [
            [
             0,
             "#0d0887"
            ],
            [
             0.1111111111111111,
             "#46039f"
            ],
            [
             0.2222222222222222,
             "#7201a8"
            ],
            [
             0.3333333333333333,
             "#9c179e"
            ],
            [
             0.4444444444444444,
             "#bd3786"
            ],
            [
             0.5555555555555556,
             "#d8576b"
            ],
            [
             0.6666666666666666,
             "#ed7953"
            ],
            [
             0.7777777777777778,
             "#fb9f3a"
            ],
            [
             0.8888888888888888,
             "#fdca26"
            ],
            [
             1,
             "#f0f921"
            ]
           ],
           "sequentialminus": [
            [
             0,
             "#0d0887"
            ],
            [
             0.1111111111111111,
             "#46039f"
            ],
            [
             0.2222222222222222,
             "#7201a8"
            ],
            [
             0.3333333333333333,
             "#9c179e"
            ],
            [
             0.4444444444444444,
             "#bd3786"
            ],
            [
             0.5555555555555556,
             "#d8576b"
            ],
            [
             0.6666666666666666,
             "#ed7953"
            ],
            [
             0.7777777777777778,
             "#fb9f3a"
            ],
            [
             0.8888888888888888,
             "#fdca26"
            ],
            [
             1,
             "#f0f921"
            ]
           ]
          },
          "colorway": [
           "#636efa",
           "#EF553B",
           "#00cc96",
           "#ab63fa",
           "#FFA15A",
           "#19d3f3",
           "#FF6692",
           "#B6E880",
           "#FF97FF",
           "#FECB52"
          ],
          "font": {
           "color": "#2a3f5f"
          },
          "geo": {
           "bgcolor": "white",
           "lakecolor": "white",
           "landcolor": "white",
           "showlakes": true,
           "showland": true,
           "subunitcolor": "#C8D4E3"
          },
          "hoverlabel": {
           "align": "left"
          },
          "hovermode": "closest",
          "mapbox": {
           "style": "light"
          },
          "paper_bgcolor": "white",
          "plot_bgcolor": "white",
          "polar": {
           "angularaxis": {
            "gridcolor": "#EBF0F8",
            "linecolor": "#EBF0F8",
            "ticks": ""
           },
           "bgcolor": "white",
           "radialaxis": {
            "gridcolor": "#EBF0F8",
            "linecolor": "#EBF0F8",
            "ticks": ""
           }
          },
          "scene": {
           "xaxis": {
            "backgroundcolor": "white",
            "gridcolor": "#DFE8F3",
            "gridwidth": 2,
            "linecolor": "#EBF0F8",
            "showbackground": true,
            "ticks": "",
            "zerolinecolor": "#EBF0F8"
           },
           "yaxis": {
            "backgroundcolor": "white",
            "gridcolor": "#DFE8F3",
            "gridwidth": 2,
            "linecolor": "#EBF0F8",
            "showbackground": true,
            "ticks": "",
            "zerolinecolor": "#EBF0F8"
           },
           "zaxis": {
            "backgroundcolor": "white",
            "gridcolor": "#DFE8F3",
            "gridwidth": 2,
            "linecolor": "#EBF0F8",
            "showbackground": true,
            "ticks": "",
            "zerolinecolor": "#EBF0F8"
           }
          },
          "shapedefaults": {
           "line": {
            "color": "#2a3f5f"
           }
          },
          "ternary": {
           "aaxis": {
            "gridcolor": "#DFE8F3",
            "linecolor": "#A2B1C6",
            "ticks": ""
           },
           "baxis": {
            "gridcolor": "#DFE8F3",
            "linecolor": "#A2B1C6",
            "ticks": ""
           },
           "bgcolor": "white",
           "caxis": {
            "gridcolor": "#DFE8F3",
            "linecolor": "#A2B1C6",
            "ticks": ""
           }
          },
          "title": {
           "x": 0.05
          },
          "xaxis": {
           "automargin": true,
           "gridcolor": "#EBF0F8",
           "linecolor": "#EBF0F8",
           "ticks": "",
           "title": {
            "standoff": 15
           },
           "zerolinecolor": "#EBF0F8",
           "zerolinewidth": 2
          },
          "yaxis": {
           "automargin": true,
           "gridcolor": "#EBF0F8",
           "linecolor": "#EBF0F8",
           "ticks": "",
           "title": {
            "standoff": 15
           },
           "zerolinecolor": "#EBF0F8",
           "zerolinewidth": 2
          }
         }
        },
        "title": {
         "font": {
          "size": 20
         }
        },
        "width": 1000,
        "xaxis": {
         "anchor": "y",
         "domain": [
          0,
          1
         ],
         "title": {
          "text": "Petal Width (cm)"
         }
        },
        "yaxis": {
         "anchor": "x",
         "domain": [
          0.625,
          1
         ],
         "title": {
          "text": "Sepal Length (cm)"
         }
        }
       }
      }
     },
     "metadata": {},
     "output_type": "display_data"
    }
   ],
   "source": [
    "# Most of the code here is in designing the plots\n",
    "\n",
    "import pandas as pd\n",
    "import plotly.express as px\n",
    "import plotly.graph_objects as go\n",
    "from plotly.subplots import make_subplots\n",
    "\n",
    "df = pd.read_csv(\"../data/iris.csv\")\n",
    "\n",
    "# Define colors for each species\n",
    "colors = {'Iris-setosa': 'blue', 'Iris-versicolor': 'orange', 'Iris-virginica': 'red'}\n",
    "\n",
    "# Create subplots: 2 rows, 1 column (2D on top, 3D on bottom)\n",
    "fig = make_subplots(\n",
    "    rows=2, cols=1,\n",
    "    specs=[[{\"type\": \"xy\"}], [{\"type\": \"scene\"}]],\n",
    "    subplot_titles=[\"2D Scatter Plot\", \"3D Scatter Plot\"]\n",
    ")\n",
    "\n",
    "# 2D\n",
    "for species in df['Species'].unique():\n",
    "    subset = df[df['Species'] == species]\n",
    "    fig.add_trace(\n",
    "        go.Scatter(\n",
    "            x=subset['PetalWidthCm'],\n",
    "            y=subset['SepalLengthCm'],\n",
    "            mode='markers',\n",
    "            name=species,\n",
    "            legendgroup='2d',  # Group for 2D legend\n",
    "            marker=dict(size=8, opacity=0.8, color=colors[species])\n",
    "        ),\n",
    "        row=1, col=1\n",
    "    )\n",
    "\n",
    "# 3D\n",
    "for species in df['Species'].unique():\n",
    "    subset = df[df['Species'] == species]\n",
    "    fig.add_trace(\n",
    "        go.Scatter3d(\n",
    "            x=subset['PetalWidthCm'],\n",
    "            y=subset['SepalLengthCm'],\n",
    "            z=subset['PetalLengthCm'],\n",
    "            mode='markers',\n",
    "            name=species,\n",
    "            legendgroup='3d',  # Group for 3D legend\n",
    "            marker=dict(size=6, opacity=0.9, line=dict(width=1, color='white'), color=colors[species])\n",
    "        ),\n",
    "        row=2, col=1\n",
    "    )\n",
    "\n",
    "fig.update_layout(\n",
    "    template='plotly_white',\n",
    "    font_family='Arial',\n",
    "    title_font_size=20,\n",
    "    width=1000,  # Slightly wider for legends\n",
    "    height=1200,  # Taller height for stacked plots\n",
    "    margin=dict(l=50, r=200, t=50, b=50),  # Extra right margin for legends\n",
    "    legend=dict(\n",
    "        x=1.02,  # Position to the right\n",
    "        y=0.5,\n",
    "        xanchor='left',\n",
    "        yanchor='middle',\n",
    "        tracegroupgap=20  # Space between legend groups\n",
    "    )\n",
    ")\n",
    "\n",
    "fig.update_xaxes(title_text=\"Petal Width (cm)\", row=1, col=1)\n",
    "fig.update_yaxes(title_text=\"Sepal Length (cm)\", row=1, col=1)\n",
    "\n",
    "fig.update_scenes(\n",
    "    xaxis_title=\"Petal Width (cm)\",\n",
    "    yaxis_title=\"Sepal Length (cm)\",\n",
    "    zaxis_title=\"Petal Length (cm)\",\n",
    "    aspectmode='cube', \n",
    "    row=2, col=1\n",
    ")\n",
    "\n",
    "# Configure the plot to be high quality when downloading\n",
    "fig.show(config={\n",
    "    'toImageButtonOptions': {\n",
    "        'format': 'png',\n",
    "        'filename': 'iris_plots',\n",
    "        'height': 1200,\n",
    "        'width': 1000,\n",
    "        'scale': 5  # Scaled for high DPI\n",
    "    }\n",
    "})\n"
   ]
  },
  {
   "cell_type": "markdown",
   "id": "366aec1d",
   "metadata": {},
   "source": [
    "## Distance Heatmap"
   ]
  },
  {
   "cell_type": "code",
   "execution_count": 17,
   "id": "3c3eb280",
   "metadata": {},
   "outputs": [
    {
     "data": {
      "application/vnd.plotly.v1+json": {
       "config": {
        "plotlyServerURL": "https://plot.ly"
       },
       "data": [
        {
         "coloraxis": "coloraxis",
         "hovertemplate": "x: %{x}<br>y: %{y}<br>Distance: %{z}<extra></extra>",
         "name": "0",
         "type": "heatmap",
         "x": [
          "Iris-setosa | id=0",
          "Iris-setosa | id=27",
          "Iris-setosa | id=28",
          "Iris-setosa | id=29",
          "Iris-setosa | id=30",
          "Iris-setosa | id=31",
          "Iris-setosa | id=32",
          "Iris-setosa | id=33",
          "Iris-setosa | id=34",
          "Iris-setosa | id=35",
          "Iris-setosa | id=36",
          "Iris-setosa | id=26",
          "Iris-setosa | id=38",
          "Iris-setosa | id=40",
          "Iris-setosa | id=41",
          "Iris-setosa | id=42",
          "Iris-setosa | id=43",
          "Iris-setosa | id=44",
          "Iris-setosa | id=45",
          "Iris-setosa | id=46",
          "Iris-setosa | id=47",
          "Iris-setosa | id=48",
          "Iris-setosa | id=49",
          "Iris-setosa | id=39",
          "Iris-setosa | id=25",
          "Iris-setosa | id=37",
          "Iris-setosa | id=23",
          "Iris-setosa | id=24",
          "Iris-setosa | id=1",
          "Iris-setosa | id=2",
          "Iris-setosa | id=3",
          "Iris-setosa | id=4",
          "Iris-setosa | id=5",
          "Iris-setosa | id=6",
          "Iris-setosa | id=8",
          "Iris-setosa | id=9",
          "Iris-setosa | id=10",
          "Iris-setosa | id=11",
          "Iris-setosa | id=7",
          "Iris-setosa | id=21",
          "Iris-setosa | id=13",
          "Iris-setosa | id=14",
          "Iris-setosa | id=15",
          "Iris-setosa | id=16",
          "Iris-setosa | id=17",
          "Iris-setosa | id=18",
          "Iris-setosa | id=19",
          "Iris-setosa | id=20",
          "Iris-setosa | id=12",
          "Iris-setosa | id=22",
          "Iris-versicolor | id=85",
          "Iris-versicolor | id=84",
          "Iris-versicolor | id=83",
          "Iris-versicolor | id=82",
          "Iris-versicolor | id=77",
          "Iris-versicolor | id=80",
          "Iris-versicolor | id=79",
          "Iris-versicolor | id=78",
          "Iris-versicolor | id=86",
          "Iris-versicolor | id=81",
          "Iris-versicolor | id=87",
          "Iris-versicolor | id=99",
          "Iris-versicolor | id=89",
          "Iris-versicolor | id=90",
          "Iris-versicolor | id=91",
          "Iris-versicolor | id=92",
          "Iris-versicolor | id=93",
          "Iris-versicolor | id=94",
          "Iris-versicolor | id=95",
          "Iris-versicolor | id=96",
          "Iris-versicolor | id=97",
          "Iris-versicolor | id=98",
          "Iris-versicolor | id=76",
          "Iris-versicolor | id=88",
          "Iris-versicolor | id=75",
          "Iris-versicolor | id=74",
          "Iris-versicolor | id=73",
          "Iris-versicolor | id=51",
          "Iris-versicolor | id=52",
          "Iris-versicolor | id=53",
          "Iris-versicolor | id=54",
          "Iris-versicolor | id=55",
          "Iris-versicolor | id=56",
          "Iris-versicolor | id=57",
          "Iris-versicolor | id=58",
          "Iris-versicolor | id=59",
          "Iris-versicolor | id=60",
          "Iris-versicolor | id=61",
          "Iris-versicolor | id=50",
          "Iris-versicolor | id=63",
          "Iris-versicolor | id=64",
          "Iris-versicolor | id=65",
          "Iris-versicolor | id=66",
          "Iris-versicolor | id=67",
          "Iris-versicolor | id=68",
          "Iris-versicolor | id=69",
          "Iris-versicolor | id=70",
          "Iris-versicolor | id=71",
          "Iris-versicolor | id=72",
          "Iris-versicolor | id=62",
          "Iris-virginica | id=134",
          "Iris-virginica | id=133",
          "Iris-virginica | id=132",
          "Iris-virginica | id=131",
          "Iris-virginica | id=126",
          "Iris-virginica | id=129",
          "Iris-virginica | id=128",
          "Iris-virginica | id=127",
          "Iris-virginica | id=135",
          "Iris-virginica | id=130",
          "Iris-virginica | id=136",
          "Iris-virginica | id=141",
          "Iris-virginica | id=138",
          "Iris-virginica | id=139",
          "Iris-virginica | id=140",
          "Iris-virginica | id=142",
          "Iris-virginica | id=143",
          "Iris-virginica | id=144",
          "Iris-virginica | id=145",
          "Iris-virginica | id=146",
          "Iris-virginica | id=147",
          "Iris-virginica | id=125",
          "Iris-virginica | id=137",
          "Iris-virginica | id=124",
          "Iris-virginica | id=112",
          "Iris-virginica | id=122",
          "Iris-virginica | id=100",
          "Iris-virginica | id=101",
          "Iris-virginica | id=102",
          "Iris-virginica | id=103",
          "Iris-virginica | id=104",
          "Iris-virginica | id=105",
          "Iris-virginica | id=106",
          "Iris-virginica | id=107",
          "Iris-virginica | id=108",
          "Iris-virginica | id=109",
          "Iris-virginica | id=123",
          "Iris-virginica | id=110",
          "Iris-virginica | id=148",
          "Iris-virginica | id=113",
          "Iris-virginica | id=114",
          "Iris-virginica | id=115",
          "Iris-virginica | id=116",
          "Iris-virginica | id=117",
          "Iris-virginica | id=118",
          "Iris-virginica | id=119",
          "Iris-virginica | id=120",
          "Iris-virginica | id=121",
          "Iris-virginica | id=111",
          "Iris-virginica | id=149"
         ],
         "xaxis": "x",
         "y": [
          "Iris-setosa | id=0",
          "Iris-setosa | id=27",
          "Iris-setosa | id=28",
          "Iris-setosa | id=29",
          "Iris-setosa | id=30",
          "Iris-setosa | id=31",
          "Iris-setosa | id=32",
          "Iris-setosa | id=33",
          "Iris-setosa | id=34",
          "Iris-setosa | id=35",
          "Iris-setosa | id=36",
          "Iris-setosa | id=26",
          "Iris-setosa | id=38",
          "Iris-setosa | id=40",
          "Iris-setosa | id=41",
          "Iris-setosa | id=42",
          "Iris-setosa | id=43",
          "Iris-setosa | id=44",
          "Iris-setosa | id=45",
          "Iris-setosa | id=46",
          "Iris-setosa | id=47",
          "Iris-setosa | id=48",
          "Iris-setosa | id=49",
          "Iris-setosa | id=39",
          "Iris-setosa | id=25",
          "Iris-setosa | id=37",
          "Iris-setosa | id=23",
          "Iris-setosa | id=24",
          "Iris-setosa | id=1",
          "Iris-setosa | id=2",
          "Iris-setosa | id=3",
          "Iris-setosa | id=4",
          "Iris-setosa | id=5",
          "Iris-setosa | id=6",
          "Iris-setosa | id=8",
          "Iris-setosa | id=9",
          "Iris-setosa | id=10",
          "Iris-setosa | id=11",
          "Iris-setosa | id=7",
          "Iris-setosa | id=21",
          "Iris-setosa | id=13",
          "Iris-setosa | id=14",
          "Iris-setosa | id=15",
          "Iris-setosa | id=16",
          "Iris-setosa | id=17",
          "Iris-setosa | id=18",
          "Iris-setosa | id=19",
          "Iris-setosa | id=20",
          "Iris-setosa | id=12",
          "Iris-setosa | id=22",
          "Iris-versicolor | id=85",
          "Iris-versicolor | id=84",
          "Iris-versicolor | id=83",
          "Iris-versicolor | id=82",
          "Iris-versicolor | id=77",
          "Iris-versicolor | id=80",
          "Iris-versicolor | id=79",
          "Iris-versicolor | id=78",
          "Iris-versicolor | id=86",
          "Iris-versicolor | id=81",
          "Iris-versicolor | id=87",
          "Iris-versicolor | id=99",
          "Iris-versicolor | id=89",
          "Iris-versicolor | id=90",
          "Iris-versicolor | id=91",
          "Iris-versicolor | id=92",
          "Iris-versicolor | id=93",
          "Iris-versicolor | id=94",
          "Iris-versicolor | id=95",
          "Iris-versicolor | id=96",
          "Iris-versicolor | id=97",
          "Iris-versicolor | id=98",
          "Iris-versicolor | id=76",
          "Iris-versicolor | id=88",
          "Iris-versicolor | id=75",
          "Iris-versicolor | id=74",
          "Iris-versicolor | id=73",
          "Iris-versicolor | id=51",
          "Iris-versicolor | id=52",
          "Iris-versicolor | id=53",
          "Iris-versicolor | id=54",
          "Iris-versicolor | id=55",
          "Iris-versicolor | id=56",
          "Iris-versicolor | id=57",
          "Iris-versicolor | id=58",
          "Iris-versicolor | id=59",
          "Iris-versicolor | id=60",
          "Iris-versicolor | id=61",
          "Iris-versicolor | id=50",
          "Iris-versicolor | id=63",
          "Iris-versicolor | id=64",
          "Iris-versicolor | id=65",
          "Iris-versicolor | id=66",
          "Iris-versicolor | id=67",
          "Iris-versicolor | id=68",
          "Iris-versicolor | id=69",
          "Iris-versicolor | id=70",
          "Iris-versicolor | id=71",
          "Iris-versicolor | id=72",
          "Iris-versicolor | id=62",
          "Iris-virginica | id=134",
          "Iris-virginica | id=133",
          "Iris-virginica | id=132",
          "Iris-virginica | id=131",
          "Iris-virginica | id=126",
          "Iris-virginica | id=129",
          "Iris-virginica | id=128",
          "Iris-virginica | id=127",
          "Iris-virginica | id=135",
          "Iris-virginica | id=130",
          "Iris-virginica | id=136",
          "Iris-virginica | id=141",
          "Iris-virginica | id=138",
          "Iris-virginica | id=139",
          "Iris-virginica | id=140",
          "Iris-virginica | id=142",
          "Iris-virginica | id=143",
          "Iris-virginica | id=144",
          "Iris-virginica | id=145",
          "Iris-virginica | id=146",
          "Iris-virginica | id=147",
          "Iris-virginica | id=125",
          "Iris-virginica | id=137",
          "Iris-virginica | id=124",
          "Iris-virginica | id=112",
          "Iris-virginica | id=122",
          "Iris-virginica | id=100",
          "Iris-virginica | id=101",
          "Iris-virginica | id=102",
          "Iris-virginica | id=103",
          "Iris-virginica | id=104",
          "Iris-virginica | id=105",
          "Iris-virginica | id=106",
          "Iris-virginica | id=107",
          "Iris-virginica | id=108",
          "Iris-virginica | id=109",
          "Iris-virginica | id=123",
          "Iris-virginica | id=110",
          "Iris-virginica | id=148",
          "Iris-virginica | id=113",
          "Iris-virginica | id=114",
          "Iris-virginica | id=115",
          "Iris-virginica | id=116",
          "Iris-virginica | id=117",
          "Iris-virginica | id=118",
          "Iris-virginica | id=119",
          "Iris-virginica | id=120",
          "Iris-virginica | id=121",
          "Iris-virginica | id=111",
          "Iris-virginica | id=149"
         ],
         "yaxis": "y",
         "z": {
          "bdata": "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",
          "dtype": "f8",
          "shape": "150, 150"
         }
        }
       ],
       "layout": {
        "coloraxis": {
         "colorbar": {
          "title": {
           "text": "Distance"
          }
         },
         "colorscale": [
          [
           0,
           "#440154"
          ],
          [
           0.1111111111111111,
           "#482878"
          ],
          [
           0.2222222222222222,
           "#3e4989"
          ],
          [
           0.3333333333333333,
           "#31688e"
          ],
          [
           0.4444444444444444,
           "#26828e"
          ],
          [
           0.5555555555555556,
           "#1f9e89"
          ],
          [
           0.6666666666666666,
           "#35b779"
          ],
          [
           0.7777777777777778,
           "#6ece58"
          ],
          [
           0.8888888888888888,
           "#b5de2b"
          ],
          [
           1,
           "#fde725"
          ]
         ]
        },
        "height": 800,
        "margin": {
         "t": 60
        },
        "shapes": [
         {
          "line": {
           "color": "white",
           "width": 1
          },
          "type": "line",
          "x0": 49.5,
          "x1": 49.5,
          "y0": -0.5,
          "y1": 149.5
         },
         {
          "line": {
           "color": "white",
           "width": 1
          },
          "type": "line",
          "x0": -0.5,
          "x1": 149.5,
          "y0": 49.5,
          "y1": 49.5
         },
         {
          "line": {
           "color": "white",
           "width": 1
          },
          "type": "line",
          "x0": 99.5,
          "x1": 99.5,
          "y0": -0.5,
          "y1": 149.5
         },
         {
          "line": {
           "color": "white",
           "width": 1
          },
          "type": "line",
          "x0": -0.5,
          "x1": 149.5,
          "y0": 99.5,
          "y1": 99.5
         }
        ],
        "template": {
         "data": {
          "bar": [
           {
            "error_x": {
             "color": "#2a3f5f"
            },
            "error_y": {
             "color": "#2a3f5f"
            },
            "marker": {
             "line": {
              "color": "#E5ECF6",
              "width": 0.5
             },
             "pattern": {
              "fillmode": "overlay",
              "size": 10,
              "solidity": 0.2
             }
            },
            "type": "bar"
           }
          ],
          "barpolar": [
           {
            "marker": {
             "line": {
              "color": "#E5ECF6",
              "width": 0.5
             },
             "pattern": {
              "fillmode": "overlay",
              "size": 10,
              "solidity": 0.2
             }
            },
            "type": "barpolar"
           }
          ],
          "carpet": [
           {
            "aaxis": {
             "endlinecolor": "#2a3f5f",
             "gridcolor": "white",
             "linecolor": "white",
             "minorgridcolor": "white",
             "startlinecolor": "#2a3f5f"
            },
            "baxis": {
             "endlinecolor": "#2a3f5f",
             "gridcolor": "white",
             "linecolor": "white",
             "minorgridcolor": "white",
             "startlinecolor": "#2a3f5f"
            },
            "type": "carpet"
           }
          ],
          "choropleth": [
           {
            "colorbar": {
             "outlinewidth": 0,
             "ticks": ""
            },
            "type": "choropleth"
           }
          ],
          "contour": [
           {
            "colorbar": {
             "outlinewidth": 0,
             "ticks": ""
            },
            "colorscale": [
             [
              0,
              "#0d0887"
             ],
             [
              0.1111111111111111,
              "#46039f"
             ],
             [
              0.2222222222222222,
              "#7201a8"
             ],
             [
              0.3333333333333333,
              "#9c179e"
             ],
             [
              0.4444444444444444,
              "#bd3786"
             ],
             [
              0.5555555555555556,
              "#d8576b"
             ],
             [
              0.6666666666666666,
              "#ed7953"
             ],
             [
              0.7777777777777778,
              "#fb9f3a"
             ],
             [
              0.8888888888888888,
              "#fdca26"
             ],
             [
              1,
              "#f0f921"
             ]
            ],
            "type": "contour"
           }
          ],
          "contourcarpet": [
           {
            "colorbar": {
             "outlinewidth": 0,
             "ticks": ""
            },
            "type": "contourcarpet"
           }
          ],
          "heatmap": [
           {
            "colorbar": {
             "outlinewidth": 0,
             "ticks": ""
            },
            "colorscale": [
             [
              0,
              "#0d0887"
             ],
             [
              0.1111111111111111,
              "#46039f"
             ],
             [
              0.2222222222222222,
              "#7201a8"
             ],
             [
              0.3333333333333333,
              "#9c179e"
             ],
             [
              0.4444444444444444,
              "#bd3786"
             ],
             [
              0.5555555555555556,
              "#d8576b"
             ],
             [
              0.6666666666666666,
              "#ed7953"
             ],
             [
              0.7777777777777778,
              "#fb9f3a"
             ],
             [
              0.8888888888888888,
              "#fdca26"
             ],
             [
              1,
              "#f0f921"
             ]
            ],
            "type": "heatmap"
           }
          ],
          "histogram": [
           {
            "marker": {
             "pattern": {
              "fillmode": "overlay",
              "size": 10,
              "solidity": 0.2
             }
            },
            "type": "histogram"
           }
          ],
          "histogram2d": [
           {
            "colorbar": {
             "outlinewidth": 0,
             "ticks": ""
            },
            "colorscale": [
             [
              0,
              "#0d0887"
             ],
             [
              0.1111111111111111,
              "#46039f"
             ],
             [
              0.2222222222222222,
              "#7201a8"
             ],
             [
              0.3333333333333333,
              "#9c179e"
             ],
             [
              0.4444444444444444,
              "#bd3786"
             ],
             [
              0.5555555555555556,
              "#d8576b"
             ],
             [
              0.6666666666666666,
              "#ed7953"
             ],
             [
              0.7777777777777778,
              "#fb9f3a"
             ],
             [
              0.8888888888888888,
              "#fdca26"
             ],
             [
              1,
              "#f0f921"
             ]
            ],
            "type": "histogram2d"
           }
          ],
          "histogram2dcontour": [
           {
            "colorbar": {
             "outlinewidth": 0,
             "ticks": ""
            },
            "colorscale": [
             [
              0,
              "#0d0887"
             ],
             [
              0.1111111111111111,
              "#46039f"
             ],
             [
              0.2222222222222222,
              "#7201a8"
             ],
             [
              0.3333333333333333,
              "#9c179e"
             ],
             [
              0.4444444444444444,
              "#bd3786"
             ],
             [
              0.5555555555555556,
              "#d8576b"
             ],
             [
              0.6666666666666666,
              "#ed7953"
             ],
             [
              0.7777777777777778,
              "#fb9f3a"
             ],
             [
              0.8888888888888888,
              "#fdca26"
             ],
             [
              1,
              "#f0f921"
             ]
            ],
            "type": "histogram2dcontour"
           }
          ],
          "mesh3d": [
           {
            "colorbar": {
             "outlinewidth": 0,
             "ticks": ""
            },
            "type": "mesh3d"
           }
          ],
          "parcoords": [
           {
            "line": {
             "colorbar": {
              "outlinewidth": 0,
              "ticks": ""
             }
            },
            "type": "parcoords"
           }
          ],
          "pie": [
           {
            "automargin": true,
            "type": "pie"
           }
          ],
          "scatter": [
           {
            "fillpattern": {
             "fillmode": "overlay",
             "size": 10,
             "solidity": 0.2
            },
            "type": "scatter"
           }
          ],
          "scatter3d": [
           {
            "line": {
             "colorbar": {
              "outlinewidth": 0,
              "ticks": ""
             }
            },
            "marker": {
             "colorbar": {
              "outlinewidth": 0,
              "ticks": ""
             }
            },
            "type": "scatter3d"
           }
          ],
          "scattercarpet": [
           {
            "marker": {
             "colorbar": {
              "outlinewidth": 0,
              "ticks": ""
             }
            },
            "type": "scattercarpet"
           }
          ],
          "scattergeo": [
           {
            "marker": {
             "colorbar": {
              "outlinewidth": 0,
              "ticks": ""
             }
            },
            "type": "scattergeo"
           }
          ],
          "scattergl": [
           {
            "marker": {
             "colorbar": {
              "outlinewidth": 0,
              "ticks": ""
             }
            },
            "type": "scattergl"
           }
          ],
          "scattermap": [
           {
            "marker": {
             "colorbar": {
              "outlinewidth": 0,
              "ticks": ""
             }
            },
            "type": "scattermap"
           }
          ],
          "scattermapbox": [
           {
            "marker": {
             "colorbar": {
              "outlinewidth": 0,
              "ticks": ""
             }
            },
            "type": "scattermapbox"
           }
          ],
          "scatterpolar": [
           {
            "marker": {
             "colorbar": {
              "outlinewidth": 0,
              "ticks": ""
             }
            },
            "type": "scatterpolar"
           }
          ],
          "scatterpolargl": [
           {
            "marker": {
             "colorbar": {
              "outlinewidth": 0,
              "ticks": ""
             }
            },
            "type": "scatterpolargl"
           }
          ],
          "scatterternary": [
           {
            "marker": {
             "colorbar": {
              "outlinewidth": 0,
              "ticks": ""
             }
            },
            "type": "scatterternary"
           }
          ],
          "surface": [
           {
            "colorbar": {
             "outlinewidth": 0,
             "ticks": ""
            },
            "colorscale": [
             [
              0,
              "#0d0887"
             ],
             [
              0.1111111111111111,
              "#46039f"
             ],
             [
              0.2222222222222222,
              "#7201a8"
             ],
             [
              0.3333333333333333,
              "#9c179e"
             ],
             [
              0.4444444444444444,
              "#bd3786"
             ],
             [
              0.5555555555555556,
              "#d8576b"
             ],
             [
              0.6666666666666666,
              "#ed7953"
             ],
             [
              0.7777777777777778,
              "#fb9f3a"
             ],
             [
              0.8888888888888888,
              "#fdca26"
             ],
             [
              1,
              "#f0f921"
             ]
            ],
            "type": "surface"
           }
          ],
          "table": [
           {
            "cells": {
             "fill": {
              "color": "#EBF0F8"
             },
             "line": {
              "color": "white"
             }
            },
            "header": {
             "fill": {
              "color": "#C8D4E3"
             },
             "line": {
              "color": "white"
             }
            },
            "type": "table"
           }
          ]
         },
         "layout": {
          "annotationdefaults": {
           "arrowcolor": "#2a3f5f",
           "arrowhead": 0,
           "arrowwidth": 1
          },
          "autotypenumbers": "strict",
          "coloraxis": {
           "colorbar": {
            "outlinewidth": 0,
            "ticks": ""
           }
          },
          "colorscale": {
           "diverging": [
            [
             0,
             "#8e0152"
            ],
            [
             0.1,
             "#c51b7d"
            ],
            [
             0.2,
             "#de77ae"
            ],
            [
             0.3,
             "#f1b6da"
            ],
            [
             0.4,
             "#fde0ef"
            ],
            [
             0.5,
             "#f7f7f7"
            ],
            [
             0.6,
             "#e6f5d0"
            ],
            [
             0.7,
             "#b8e186"
            ],
            [
             0.8,
             "#7fbc41"
            ],
            [
             0.9,
             "#4d9221"
            ],
            [
             1,
             "#276419"
            ]
           ],
           "sequential": [
            [
             0,
             "#0d0887"
            ],
            [
             0.1111111111111111,
             "#46039f"
            ],
            [
             0.2222222222222222,
             "#7201a8"
            ],
            [
             0.3333333333333333,
             "#9c179e"
            ],
            [
             0.4444444444444444,
             "#bd3786"
            ],
            [
             0.5555555555555556,
             "#d8576b"
            ],
            [
             0.6666666666666666,
             "#ed7953"
            ],
            [
             0.7777777777777778,
             "#fb9f3a"
            ],
            [
             0.8888888888888888,
             "#fdca26"
            ],
            [
             1,
             "#f0f921"
            ]
           ],
           "sequentialminus": [
            [
             0,
             "#0d0887"
            ],
            [
             0.1111111111111111,
             "#46039f"
            ],
            [
             0.2222222222222222,
             "#7201a8"
            ],
            [
             0.3333333333333333,
             "#9c179e"
            ],
            [
             0.4444444444444444,
             "#bd3786"
            ],
            [
             0.5555555555555556,
             "#d8576b"
            ],
            [
             0.6666666666666666,
             "#ed7953"
            ],
            [
             0.7777777777777778,
             "#fb9f3a"
            ],
            [
             0.8888888888888888,
             "#fdca26"
            ],
            [
             1,
             "#f0f921"
            ]
           ]
          },
          "colorway": [
           "#636efa",
           "#EF553B",
           "#00cc96",
           "#ab63fa",
           "#FFA15A",
           "#19d3f3",
           "#FF6692",
           "#B6E880",
           "#FF97FF",
           "#FECB52"
          ],
          "font": {
           "color": "#2a3f5f"
          },
          "geo": {
           "bgcolor": "white",
           "lakecolor": "white",
           "landcolor": "#E5ECF6",
           "showlakes": true,
           "showland": true,
           "subunitcolor": "white"
          },
          "hoverlabel": {
           "align": "left"
          },
          "hovermode": "closest",
          "mapbox": {
           "style": "light"
          },
          "paper_bgcolor": "white",
          "plot_bgcolor": "#E5ECF6",
          "polar": {
           "angularaxis": {
            "gridcolor": "white",
            "linecolor": "white",
            "ticks": ""
           },
           "bgcolor": "#E5ECF6",
           "radialaxis": {
            "gridcolor": "white",
            "linecolor": "white",
            "ticks": ""
           }
          },
          "scene": {
           "xaxis": {
            "backgroundcolor": "#E5ECF6",
            "gridcolor": "white",
            "gridwidth": 2,
            "linecolor": "white",
            "showbackground": true,
            "ticks": "",
            "zerolinecolor": "white"
           },
           "yaxis": {
            "backgroundcolor": "#E5ECF6",
            "gridcolor": "white",
            "gridwidth": 2,
            "linecolor": "white",
            "showbackground": true,
            "ticks": "",
            "zerolinecolor": "white"
           },
           "zaxis": {
            "backgroundcolor": "#E5ECF6",
            "gridcolor": "white",
            "gridwidth": 2,
            "linecolor": "white",
            "showbackground": true,
            "ticks": "",
            "zerolinecolor": "white"
           }
          },
          "shapedefaults": {
           "line": {
            "color": "#2a3f5f"
           }
          },
          "ternary": {
           "aaxis": {
            "gridcolor": "white",
            "linecolor": "white",
            "ticks": ""
           },
           "baxis": {
            "gridcolor": "white",
            "linecolor": "white",
            "ticks": ""
           },
           "bgcolor": "#E5ECF6",
           "caxis": {
            "gridcolor": "white",
            "linecolor": "white",
            "ticks": ""
           }
          },
          "title": {
           "x": 0.05
          },
          "xaxis": {
           "automargin": true,
           "gridcolor": "white",
           "linecolor": "white",
           "ticks": "",
           "title": {
            "standoff": 15
           },
           "zerolinecolor": "white",
           "zerolinewidth": 2
          },
          "yaxis": {
           "automargin": true,
           "gridcolor": "white",
           "linecolor": "white",
           "ticks": "",
           "title": {
            "standoff": 15
           },
           "zerolinecolor": "white",
           "zerolinewidth": 2
          }
         }
        },
        "title": {
         "text": "Iris pairwise distances (Gower, ordered by species)"
        },
        "width": 800,
        "xaxis": {
         "anchor": "y",
         "constrain": "domain",
         "domain": [
          0,
          1
         ],
         "scaleanchor": "y",
         "showticklabels": false
        },
        "yaxis": {
         "anchor": "x",
         "autorange": true,
         "constrain": "domain",
         "domain": [
          0,
          1
         ],
         "showticklabels": false
        }
       }
      }
     },
     "metadata": {},
     "output_type": "display_data"
    },
    {
     "name": "stdout",
     "output_type": "stream",
     "text": [
      "Notice how coordinates in the form (n,n) are darker, and, the further away they are from the diagonal, the lighter they become. Right now there are 3 species, so this forms 9 squares.\n"
     ]
    }
   ],
   "source": [
    "\n",
    "import numpy as np\n",
    "import pandas as pd\n",
    "import plotly.express as px\n",
    "import sys\n",
    "\n",
    "sys.path.append('..')\n",
    "from distances.distance_matrix import make_distance_matrix\n",
    "\n",
    "df = pd.read_csv(\"../data/iris.csv\")\n",
    "X = df[['SepalLengthCm','SepalWidthCm','PetalLengthCm','PetalWidthCm']].to_numpy()\n",
    "\n",
    "# Build pairwise distance matrix (150x150)\n",
    "D = make_distance_matrix(X, metric='gower')  # consider 'euclidean' too\n",
    "\n",
    "# Order by species to reveal blocks\n",
    "order = np.argsort(df['Species'].values)\n",
    "D_ordered = D[np.ix_(order, order)]\n",
    "\n",
    "# Labels for hover (sample id + species); hide tick labels to avoid clutter\n",
    "sample_ids = np.arange(len(df))\n",
    "hover_labels = (df['Species'] + \" | id=\" + sample_ids.astype(str)).values[order]\n",
    "\n",
    "fig = px.imshow(\n",
    "    D_ordered,\n",
    "    x=hover_labels, y=hover_labels,\n",
    "    color_continuous_scale='Viridis',\n",
    "    origin='lower',\n",
    "    labels=dict(color='Distance'),\n",
    ")\n",
    "fig.update_layout(\n",
    "    title='Iris pairwise distances (Gower, ordered by species)',\n",
    "    width=800, height=800\n",
    ")\n",
    "# Hide dense ticks, keep hover informative\n",
    "fig.update_xaxes(showticklabels=False)\n",
    "fig.update_yaxes(showticklabels=False)\n",
    "\n",
    "# Draw species boundary lines\n",
    "species_ordered = df['Species'].values[order]\n",
    "bounds = np.where(species_ordered[:-1] != species_ordered[1:])[0] + 0.5\n",
    "n = len(df)\n",
    "for b in bounds:\n",
    "    fig.add_shape(type='line', x0=b, x1=b, y0=-0.5, y1=n-0.5, line=dict(color='white', width=1))\n",
    "    fig.add_shape(type='line', y0=b, y1=b, x0=-0.5, x1=n-0.5, line=dict(color='white', width=1))\n",
    "\n",
    "fig.show()\n",
    "\n",
    "print(\"Notice how coordinates in the form (n,n) are darker, and, the further away they are from the diagonal, the lighter they become. Right now there are 3 species, so this forms 9 squares.\")"
   ]
  },
  {
   "cell_type": "markdown",
   "id": "203a1990",
   "metadata": {},
   "source": [
    "## Making Predictions\n",
    "\n",
    "### Using k-nearest neighhbours\n",
    "\n",
    "Use Matrix `D` from the previous cell to make a prediction engine for species, given a new sample's features.\n"
   ]
  },
  {
   "cell_type": "code",
   "execution_count": null,
   "id": "9ed3a52a",
   "metadata": {},
   "outputs": [
    {
     "name": "stdout",
     "output_type": "stream",
     "text": [
      "kNN (k=10) Leave-One-Out Accuracy: 95.3333333333%\n",
      "Prediction for sample 0 (Iris-setosa): Iris-setosa\n",
      "Prediction for new point (with Gower distance): Iris-versicolor\n",
      "Prediction for new point (with Minkowski distance): Iris-versicolor\n",
      "Prediction for new point (with Gower distance): Iris-virginica\n",
      "Prediction for new point (with Minkowski distance): Iris-virginica\n"
     ]
    }
   ],
   "source": [
    "import numpy as np\n",
    "import pandas as pd\n",
    "from collections import Counter\n",
    "\n",
    "# These are the correct answers\n",
    "species = df['Species'].to_numpy()\n",
    "\n",
    "def knn_predictor(D, species, k=5, target_idx=None, new_distances=None):\n",
    "    \"\"\"\n",
    "    Predict species for a target sample using kNN from distance matrix.\n",
    "    \n",
    "    Args:\n",
    "    - D: 150x150 distance matrix (precomputed).\n",
    "    - species: Array of true species labels (150,).\n",
    "    - k: Number of neighbours.\n",
    "    - target_idx: Index of target sample (for LOO; if None, predict for all).\n",
    "    - new_distances: 1D array of distances from a new point to all 150 samples (if predicting new point).\n",
    "    \n",
    "    Returns:\n",
    "    - Predictions (string or array).\n",
    "    \"\"\"\n",
    "    if new_distances is not None:\n",
    "        distances = new_distances\n",
    "        exclude_self = False\n",
    "    else:  # Predicting existing samples (leave one out)\n",
    "        if target_idx is not None:\n",
    "            distances = D[target_idx].copy()\n",
    "            exclude_self = True\n",
    "        else:  # Predict for all samples\n",
    "            predictions = []\n",
    "            for i in range(len(D)):\n",
    "                pred = knn_predictor(D, species, k, target_idx=i)\n",
    "                predictions.append(pred)\n",
    "            return np.array(predictions)\n",
    "    \n",
    "    # Find k nearest neighbours\n",
    "    if exclude_self:\n",
    "        sorted_indices = np.argsort(distances)[1:k+1]   # Skip self (i.e. check elements 1 to k)\n",
    "    else:\n",
    "        sorted_indices = np.argsort(distances)[:k]      # Include self; elements 0 to k-1\n",
    "\n",
    "    neighbour_species = species[sorted_indices]\n",
    "    # Majority vote\n",
    "    vote = Counter(neighbour_species).most_common(1)[0][0]\n",
    "    return vote\n",
    "\n",
    "# Example: Leave-one-out accuracy\n",
    "neighbour_count = 10\n",
    "\n",
    "predictions = knn_predictor(D, species, k=neighbour_count)\n",
    "\n",
    "accuracy = (predictions == species).mean()\n",
    "print(f\"kNN (k={neighbour_count}) Leave-One-Out Accuracy: {accuracy*100:.10f}%\")\n",
    "\n",
    "pred_for_0 = knn_predictor(D, species, k=neighbour_count, target_idx=0)\n",
    "print(f\"Prediction for sample 0 ({species[0]}): {pred_for_0}\")\n",
    "\n",
    "new_point = X[:100].mean(axis=0)  # Hypothetical random point\n",
    "\n",
    "# Predict its species based on kNN, this time using Gower distance. \n",
    "combined_data = np.vstack([X, new_point.reshape(1, -1)])  # Add new_point as a row\n",
    "full_D = make_distance_matrix(combined_data, metric='gower')  # Same metric as D\n",
    "new_distances = full_D[-1, :-1]  # Extract distances from new_point (last row) to all X (all but last column)\n",
    "\n",
    "# Now using Gower distance\n",
    "pred_new = knn_predictor(D, species, k=5, new_distances=new_distances)\n",
    "print(f\"Prediction for new point (with Gower distance): {pred_new}\")\n",
    "\n",
    "combined_data = np.vstack([X, new_point.reshape(1, -1)])  # Add new_point as a row\n",
    "full_D = make_distance_matrix(combined_data, metric='minkowski')  # Same metric as D\n",
    "new_distances = full_D[-1, :-1]  # Extract distances from new_point (last row) to all X (all but last column)\n",
    "\n",
    "# This time using Minkowski distance\n",
    "pred_new = knn_predictor(D, species, k=5, new_distances=new_distances)\n",
    "print(f\"Prediction for new point (with Minkowski distance): {pred_new}\")\n",
    "\n",
    "\n",
    "# And now another point\n",
    "new_point = X[100:110].mean(axis=0)\n",
    "\n",
    "# Predict its species based on kNN, this time using Gower distance.\n",
    "combined_data = np.vstack([X, new_point.reshape(1, -1)])  # Add new_point as a row\n",
    "full_D = make_distance_matrix(combined_data, metric='gower')  # Same metric as D\n",
    "new_distances = full_D[-1, :-1]  # Extract distances from new_point (last row) to all X (all but last column)\n",
    "\n",
    "# Now using Gower distance\n",
    "pred_new = knn_predictor(D, species, k=5, new_distances=new_distances)\n",
    "print(f\"Prediction for new point (with Gower distance): {pred_new}\")\n",
    "\n",
    "combined_data = np.vstack([X, new_point.reshape(1, -1)])  # Add new_point as a row\n",
    "full_D = make_distance_matrix(combined_data, metric='minkowski')  # Same metric as D\n",
    "new_distances = full_D[-1, :-1]  # Extract distances from new_point (last row) to all X (all but last column)\n",
    "\n",
    "# This time using Minkowski distance\n",
    "pred_new = knn_predictor(D, species, k=5, new_distances=new_distances)\n",
    "print(f\"Prediction for new point (with Minkowski distance): {pred_new}\")\n",
    "\n",
    "print(\"In this case, the choice of distance metric seems to not matter all that much.\")\n",
    "\n"
   ]
  }
 ],
 "metadata": {
  "kernelspec": {
   "display_name": "base",
   "language": "python",
   "name": "python3"
  },
  "language_info": {
   "codemirror_mode": {
    "name": "ipython",
    "version": 3
   },
   "file_extension": ".py",
   "mimetype": "text/x-python",
   "name": "python",
   "nbconvert_exporter": "python",
   "pygments_lexer": "ipython3",
   "version": "3.13.5"
  }
 },
 "nbformat": 4,
 "nbformat_minor": 5
}
